{
 "cells": [
  {
   "cell_type": "code",
   "execution_count": 1,
   "metadata": {},
   "outputs": [
    {
     "data": {
      "text/markdown": [
       "## Assignment1\n",
       "### -- Yuanjie Yue\n"
      ],
      "text/plain": [
       "<IPython.core.display.Markdown object>"
      ]
     },
     "metadata": {},
     "output_type": "display_data"
    }
   ],
   "source": [
    "%%markdown\n",
    "## Assignment1\n",
    "### -- Yuanjie Yue"
   ]
  },
  {
   "cell_type": "code",
   "execution_count": 2,
   "metadata": {},
   "outputs": [
    {
     "data": {
      "text/markdown": [
       "### Preparation\n"
      ],
      "text/plain": [
       "<IPython.core.display.Markdown object>"
      ]
     },
     "metadata": {},
     "output_type": "display_data"
    }
   ],
   "source": [
    "%%markdown\n",
    "### Preparation"
   ]
  },
  {
   "cell_type": "code",
   "execution_count": 3,
   "metadata": {},
   "outputs": [],
   "source": [
    "import pandas as pd\n",
    "import numpy as np"
   ]
  },
  {
   "cell_type": "code",
   "execution_count": 4,
   "metadata": {},
   "outputs": [],
   "source": [
    "data = pd.read_csv('./data/movie_lens_genre_separated.tsv', sep='\\t')"
   ]
  },
  {
   "cell_type": "code",
   "execution_count": 5,
   "metadata": {},
   "outputs": [
    {
     "data": {
      "text/html": [
       "<div>\n",
       "<style scoped>\n",
       "    .dataframe tbody tr th:only-of-type {\n",
       "        vertical-align: middle;\n",
       "    }\n",
       "\n",
       "    .dataframe tbody tr th {\n",
       "        vertical-align: top;\n",
       "    }\n",
       "\n",
       "    .dataframe thead th {\n",
       "        text-align: right;\n",
       "    }\n",
       "</style>\n",
       "<table border=\"1\" class=\"dataframe\">\n",
       "  <thead>\n",
       "    <tr style=\"text-align: right;\">\n",
       "      <th></th>\n",
       "      <th>user_id</th>\n",
       "      <th>movie_id</th>\n",
       "      <th>rating</th>\n",
       "      <th>timestamp</th>\n",
       "      <th>gender</th>\n",
       "      <th>age</th>\n",
       "      <th>occupation</th>\n",
       "      <th>zip</th>\n",
       "      <th>title</th>\n",
       "      <th>genres</th>\n",
       "    </tr>\n",
       "  </thead>\n",
       "  <tbody>\n",
       "    <tr>\n",
       "      <td>0</td>\n",
       "      <td>2917</td>\n",
       "      <td>2355</td>\n",
       "      <td>2</td>\n",
       "      <td>971730180</td>\n",
       "      <td>M</td>\n",
       "      <td>25</td>\n",
       "      <td>0</td>\n",
       "      <td>60201</td>\n",
       "      <td>Bug's Life, A (1998)</td>\n",
       "      <td>Animation</td>\n",
       "    </tr>\n",
       "    <tr>\n",
       "      <td>1</td>\n",
       "      <td>2917</td>\n",
       "      <td>2355</td>\n",
       "      <td>2</td>\n",
       "      <td>971730180</td>\n",
       "      <td>M</td>\n",
       "      <td>25</td>\n",
       "      <td>0</td>\n",
       "      <td>60201</td>\n",
       "      <td>Bug's Life, A (1998)</td>\n",
       "      <td>Children's</td>\n",
       "    </tr>\n",
       "    <tr>\n",
       "      <td>2</td>\n",
       "      <td>2917</td>\n",
       "      <td>2355</td>\n",
       "      <td>2</td>\n",
       "      <td>971730180</td>\n",
       "      <td>M</td>\n",
       "      <td>25</td>\n",
       "      <td>0</td>\n",
       "      <td>60201</td>\n",
       "      <td>Bug's Life, A (1998)</td>\n",
       "      <td>Comedy</td>\n",
       "    </tr>\n",
       "    <tr>\n",
       "      <td>3</td>\n",
       "      <td>2924</td>\n",
       "      <td>2355</td>\n",
       "      <td>4</td>\n",
       "      <td>971592069</td>\n",
       "      <td>F</td>\n",
       "      <td>18</td>\n",
       "      <td>4</td>\n",
       "      <td>94121</td>\n",
       "      <td>Bug's Life, A (1998)</td>\n",
       "      <td>Animation</td>\n",
       "    </tr>\n",
       "    <tr>\n",
       "      <td>4</td>\n",
       "      <td>2924</td>\n",
       "      <td>2355</td>\n",
       "      <td>4</td>\n",
       "      <td>971592069</td>\n",
       "      <td>F</td>\n",
       "      <td>18</td>\n",
       "      <td>4</td>\n",
       "      <td>94121</td>\n",
       "      <td>Bug's Life, A (1998)</td>\n",
       "      <td>Children's</td>\n",
       "    </tr>\n",
       "  </tbody>\n",
       "</table>\n",
       "</div>"
      ],
      "text/plain": [
       "   user_id  movie_id  rating  timestamp gender  age  occupation    zip  \\\n",
       "0     2917      2355       2  971730180      M   25           0  60201   \n",
       "1     2917      2355       2  971730180      M   25           0  60201   \n",
       "2     2917      2355       2  971730180      M   25           0  60201   \n",
       "3     2924      2355       4  971592069      F   18           4  94121   \n",
       "4     2924      2355       4  971592069      F   18           4  94121   \n",
       "\n",
       "                  title      genres  \n",
       "0  Bug's Life, A (1998)   Animation  \n",
       "1  Bug's Life, A (1998)  Children's  \n",
       "2  Bug's Life, A (1998)      Comedy  \n",
       "3  Bug's Life, A (1998)   Animation  \n",
       "4  Bug's Life, A (1998)  Children's  "
      ]
     },
     "execution_count": 5,
     "metadata": {},
     "output_type": "execute_result"
    }
   ],
   "source": [
    "data.head()"
   ]
  },
  {
   "cell_type": "code",
   "execution_count": 6,
   "metadata": {},
   "outputs": [],
   "source": [
    "mean_ratings = data.pivot_table('rating', index='title', columns='gender', aggfunc='mean')"
   ]
  },
  {
   "cell_type": "code",
   "execution_count": 7,
   "metadata": {},
   "outputs": [
    {
     "data": {
      "text/html": [
       "<div>\n",
       "<style scoped>\n",
       "    .dataframe tbody tr th:only-of-type {\n",
       "        vertical-align: middle;\n",
       "    }\n",
       "\n",
       "    .dataframe tbody tr th {\n",
       "        vertical-align: top;\n",
       "    }\n",
       "\n",
       "    .dataframe thead th {\n",
       "        text-align: right;\n",
       "    }\n",
       "</style>\n",
       "<table border=\"1\" class=\"dataframe\">\n",
       "  <thead>\n",
       "    <tr style=\"text-align: right;\">\n",
       "      <th>gender</th>\n",
       "      <th>F</th>\n",
       "      <th>M</th>\n",
       "    </tr>\n",
       "    <tr>\n",
       "      <th>title</th>\n",
       "      <th></th>\n",
       "      <th></th>\n",
       "    </tr>\n",
       "  </thead>\n",
       "  <tbody>\n",
       "    <tr>\n",
       "      <td>$1,000,000 Duck (1971)</td>\n",
       "      <td>3.375000</td>\n",
       "      <td>2.761905</td>\n",
       "    </tr>\n",
       "    <tr>\n",
       "      <td>'Night Mother (1986)</td>\n",
       "      <td>3.388889</td>\n",
       "      <td>3.352941</td>\n",
       "    </tr>\n",
       "    <tr>\n",
       "      <td>'Til There Was You (1997)</td>\n",
       "      <td>2.675676</td>\n",
       "      <td>2.733333</td>\n",
       "    </tr>\n",
       "    <tr>\n",
       "      <td>'burbs, The (1989)</td>\n",
       "      <td>2.793478</td>\n",
       "      <td>2.962085</td>\n",
       "    </tr>\n",
       "    <tr>\n",
       "      <td>...And Justice for All (1979)</td>\n",
       "      <td>3.828571</td>\n",
       "      <td>3.689024</td>\n",
       "    </tr>\n",
       "  </tbody>\n",
       "</table>\n",
       "</div>"
      ],
      "text/plain": [
       "gender                                F         M\n",
       "title                                            \n",
       "$1,000,000 Duck (1971)         3.375000  2.761905\n",
       "'Night Mother (1986)           3.388889  3.352941\n",
       "'Til There Was You (1997)      2.675676  2.733333\n",
       "'burbs, The (1989)             2.793478  2.962085\n",
       "...And Justice for All (1979)  3.828571  3.689024"
      ]
     },
     "execution_count": 7,
     "metadata": {},
     "output_type": "execute_result"
    }
   ],
   "source": [
    "mean_ratings[:5]"
   ]
  },
  {
   "cell_type": "code",
   "execution_count": 8,
   "metadata": {},
   "outputs": [],
   "source": [
    "ratings_by_title = data.groupby('title').size()"
   ]
  },
  {
   "cell_type": "code",
   "execution_count": 9,
   "metadata": {},
   "outputs": [
    {
     "data": {
      "text/plain": [
       "title\n",
       "$1,000,000 Duck (1971)            74\n",
       "'Night Mother (1986)              70\n",
       "'Til There Was You (1997)        104\n",
       "'burbs, The (1989)               303\n",
       "...And Justice for All (1979)    398\n",
       "dtype: int64"
      ]
     },
     "execution_count": 9,
     "metadata": {},
     "output_type": "execute_result"
    }
   ],
   "source": [
    "ratings_by_title[:5]"
   ]
  },
  {
   "cell_type": "code",
   "execution_count": 10,
   "metadata": {},
   "outputs": [],
   "source": [
    "active_titles = ratings_by_title.index[ratings_by_title >= 250]"
   ]
  },
  {
   "cell_type": "code",
   "execution_count": 11,
   "metadata": {},
   "outputs": [
    {
     "data": {
      "text/plain": [
       "Index([''burbs, The (1989)', '...And Justice for All (1979)',\n",
       "       '10 Things I Hate About You (1999)', '101 Dalmatians (1961)',\n",
       "       '101 Dalmatians (1996)'],\n",
       "      dtype='object', name='title')"
      ]
     },
     "execution_count": 11,
     "metadata": {},
     "output_type": "execute_result"
    }
   ],
   "source": [
    "active_titles[:5]"
   ]
  },
  {
   "cell_type": "code",
   "execution_count": 12,
   "metadata": {},
   "outputs": [],
   "source": [
    "mean_ratings = mean_ratings.loc[active_titles]"
   ]
  },
  {
   "cell_type": "code",
   "execution_count": 13,
   "metadata": {},
   "outputs": [
    {
     "data": {
      "text/html": [
       "<div>\n",
       "<style scoped>\n",
       "    .dataframe tbody tr th:only-of-type {\n",
       "        vertical-align: middle;\n",
       "    }\n",
       "\n",
       "    .dataframe tbody tr th {\n",
       "        vertical-align: top;\n",
       "    }\n",
       "\n",
       "    .dataframe thead th {\n",
       "        text-align: right;\n",
       "    }\n",
       "</style>\n",
       "<table border=\"1\" class=\"dataframe\">\n",
       "  <thead>\n",
       "    <tr style=\"text-align: right;\">\n",
       "      <th>gender</th>\n",
       "      <th>F</th>\n",
       "      <th>M</th>\n",
       "    </tr>\n",
       "    <tr>\n",
       "      <th>title</th>\n",
       "      <th></th>\n",
       "      <th></th>\n",
       "    </tr>\n",
       "  </thead>\n",
       "  <tbody>\n",
       "    <tr>\n",
       "      <td>'burbs, The (1989)</td>\n",
       "      <td>2.793478</td>\n",
       "      <td>2.962085</td>\n",
       "    </tr>\n",
       "    <tr>\n",
       "      <td>...And Justice for All (1979)</td>\n",
       "      <td>3.828571</td>\n",
       "      <td>3.689024</td>\n",
       "    </tr>\n",
       "    <tr>\n",
       "      <td>10 Things I Hate About You (1999)</td>\n",
       "      <td>3.646552</td>\n",
       "      <td>3.311966</td>\n",
       "    </tr>\n",
       "    <tr>\n",
       "      <td>101 Dalmatians (1961)</td>\n",
       "      <td>3.791444</td>\n",
       "      <td>3.500000</td>\n",
       "    </tr>\n",
       "    <tr>\n",
       "      <td>101 Dalmatians (1996)</td>\n",
       "      <td>3.240000</td>\n",
       "      <td>2.911215</td>\n",
       "    </tr>\n",
       "  </tbody>\n",
       "</table>\n",
       "</div>"
      ],
      "text/plain": [
       "gender                                    F         M\n",
       "title                                                \n",
       "'burbs, The (1989)                 2.793478  2.962085\n",
       "...And Justice for All (1979)      3.828571  3.689024\n",
       "10 Things I Hate About You (1999)  3.646552  3.311966\n",
       "101 Dalmatians (1961)              3.791444  3.500000\n",
       "101 Dalmatians (1996)              3.240000  2.911215"
      ]
     },
     "execution_count": 13,
     "metadata": {},
     "output_type": "execute_result"
    }
   ],
   "source": [
    "mean_ratings[:5]"
   ]
  },
  {
   "cell_type": "code",
   "execution_count": 14,
   "metadata": {},
   "outputs": [],
   "source": [
    "top_female_ratings = mean_ratings.sort_values(by='F', ascending=False)"
   ]
  },
  {
   "cell_type": "code",
   "execution_count": 15,
   "metadata": {},
   "outputs": [
    {
     "data": {
      "text/html": [
       "<div>\n",
       "<style scoped>\n",
       "    .dataframe tbody tr th:only-of-type {\n",
       "        vertical-align: middle;\n",
       "    }\n",
       "\n",
       "    .dataframe tbody tr th {\n",
       "        vertical-align: top;\n",
       "    }\n",
       "\n",
       "    .dataframe thead th {\n",
       "        text-align: right;\n",
       "    }\n",
       "</style>\n",
       "<table border=\"1\" class=\"dataframe\">\n",
       "  <thead>\n",
       "    <tr style=\"text-align: right;\">\n",
       "      <th>gender</th>\n",
       "      <th>F</th>\n",
       "      <th>M</th>\n",
       "    </tr>\n",
       "    <tr>\n",
       "      <th>title</th>\n",
       "      <th></th>\n",
       "      <th></th>\n",
       "    </tr>\n",
       "  </thead>\n",
       "  <tbody>\n",
       "    <tr>\n",
       "      <td>Close Shave, A (1995)</td>\n",
       "      <td>4.644444</td>\n",
       "      <td>4.473795</td>\n",
       "    </tr>\n",
       "    <tr>\n",
       "      <td>Wrong Trousers, The (1993)</td>\n",
       "      <td>4.588235</td>\n",
       "      <td>4.478261</td>\n",
       "    </tr>\n",
       "    <tr>\n",
       "      <td>Sunset Blvd. (a.k.a. Sunset Boulevard) (1950)</td>\n",
       "      <td>4.572650</td>\n",
       "      <td>4.464589</td>\n",
       "    </tr>\n",
       "    <tr>\n",
       "      <td>Wallace &amp; Gromit: The Best of Aardman Animation (1996)</td>\n",
       "      <td>4.563107</td>\n",
       "      <td>4.385075</td>\n",
       "    </tr>\n",
       "    <tr>\n",
       "      <td>Schindler's List (1993)</td>\n",
       "      <td>4.562602</td>\n",
       "      <td>4.491415</td>\n",
       "    </tr>\n",
       "    <tr>\n",
       "      <td>Grand Illusion (Grande illusion, La) (1937)</td>\n",
       "      <td>4.560976</td>\n",
       "      <td>4.266129</td>\n",
       "    </tr>\n",
       "    <tr>\n",
       "      <td>Shawshank Redemption, The (1994)</td>\n",
       "      <td>4.539075</td>\n",
       "      <td>4.560625</td>\n",
       "    </tr>\n",
       "    <tr>\n",
       "      <td>Grand Day Out, A (1992)</td>\n",
       "      <td>4.537879</td>\n",
       "      <td>4.293255</td>\n",
       "    </tr>\n",
       "    <tr>\n",
       "      <td>To Kill a Mockingbird (1962)</td>\n",
       "      <td>4.536667</td>\n",
       "      <td>4.372611</td>\n",
       "    </tr>\n",
       "    <tr>\n",
       "      <td>Creature Comforts (1990)</td>\n",
       "      <td>4.513889</td>\n",
       "      <td>4.272277</td>\n",
       "    </tr>\n",
       "  </tbody>\n",
       "</table>\n",
       "</div>"
      ],
      "text/plain": [
       "gender                                                     F         M\n",
       "title                                                                 \n",
       "Close Shave, A (1995)                               4.644444  4.473795\n",
       "Wrong Trousers, The (1993)                          4.588235  4.478261\n",
       "Sunset Blvd. (a.k.a. Sunset Boulevard) (1950)       4.572650  4.464589\n",
       "Wallace & Gromit: The Best of Aardman Animation...  4.563107  4.385075\n",
       "Schindler's List (1993)                             4.562602  4.491415\n",
       "Grand Illusion (Grande illusion, La) (1937)         4.560976  4.266129\n",
       "Shawshank Redemption, The (1994)                    4.539075  4.560625\n",
       "Grand Day Out, A (1992)                             4.537879  4.293255\n",
       "To Kill a Mockingbird (1962)                        4.536667  4.372611\n",
       "Creature Comforts (1990)                            4.513889  4.272277"
      ]
     },
     "execution_count": 15,
     "metadata": {},
     "output_type": "execute_result"
    }
   ],
   "source": [
    "top_female_ratings[:10]"
   ]
  },
  {
   "cell_type": "code",
   "execution_count": 16,
   "metadata": {},
   "outputs": [],
   "source": [
    "top_male_ratings = mean_ratings.sort_values(by='M', ascending=False)"
   ]
  },
  {
   "cell_type": "code",
   "execution_count": 17,
   "metadata": {},
   "outputs": [
    {
     "data": {
      "text/html": [
       "<div>\n",
       "<style scoped>\n",
       "    .dataframe tbody tr th:only-of-type {\n",
       "        vertical-align: middle;\n",
       "    }\n",
       "\n",
       "    .dataframe tbody tr th {\n",
       "        vertical-align: top;\n",
       "    }\n",
       "\n",
       "    .dataframe thead th {\n",
       "        text-align: right;\n",
       "    }\n",
       "</style>\n",
       "<table border=\"1\" class=\"dataframe\">\n",
       "  <thead>\n",
       "    <tr style=\"text-align: right;\">\n",
       "      <th>gender</th>\n",
       "      <th>F</th>\n",
       "      <th>M</th>\n",
       "    </tr>\n",
       "    <tr>\n",
       "      <th>title</th>\n",
       "      <th></th>\n",
       "      <th></th>\n",
       "    </tr>\n",
       "  </thead>\n",
       "  <tbody>\n",
       "    <tr>\n",
       "      <td>Godfather, The (1972)</td>\n",
       "      <td>4.314700</td>\n",
       "      <td>4.583333</td>\n",
       "    </tr>\n",
       "    <tr>\n",
       "      <td>Seven Samurai (The Magnificent Seven) (Shichinin no samurai) (1954)</td>\n",
       "      <td>4.481132</td>\n",
       "      <td>4.576628</td>\n",
       "    </tr>\n",
       "    <tr>\n",
       "      <td>Shawshank Redemption, The (1994)</td>\n",
       "      <td>4.539075</td>\n",
       "      <td>4.560625</td>\n",
       "    </tr>\n",
       "    <tr>\n",
       "      <td>Raiders of the Lost Ark (1981)</td>\n",
       "      <td>4.332168</td>\n",
       "      <td>4.520597</td>\n",
       "    </tr>\n",
       "    <tr>\n",
       "      <td>Usual Suspects, The (1995)</td>\n",
       "      <td>4.513317</td>\n",
       "      <td>4.518248</td>\n",
       "    </tr>\n",
       "    <tr>\n",
       "      <td>Star Wars: Episode IV - A New Hope (1977)</td>\n",
       "      <td>4.302937</td>\n",
       "      <td>4.495307</td>\n",
       "    </tr>\n",
       "    <tr>\n",
       "      <td>Schindler's List (1993)</td>\n",
       "      <td>4.562602</td>\n",
       "      <td>4.491415</td>\n",
       "    </tr>\n",
       "    <tr>\n",
       "      <td>Paths of Glory (1957)</td>\n",
       "      <td>4.392857</td>\n",
       "      <td>4.485149</td>\n",
       "    </tr>\n",
       "    <tr>\n",
       "      <td>Wrong Trousers, The (1993)</td>\n",
       "      <td>4.588235</td>\n",
       "      <td>4.478261</td>\n",
       "    </tr>\n",
       "    <tr>\n",
       "      <td>Close Shave, A (1995)</td>\n",
       "      <td>4.644444</td>\n",
       "      <td>4.473795</td>\n",
       "    </tr>\n",
       "  </tbody>\n",
       "</table>\n",
       "</div>"
      ],
      "text/plain": [
       "gender                                                     F         M\n",
       "title                                                                 \n",
       "Godfather, The (1972)                               4.314700  4.583333\n",
       "Seven Samurai (The Magnificent Seven) (Shichini...  4.481132  4.576628\n",
       "Shawshank Redemption, The (1994)                    4.539075  4.560625\n",
       "Raiders of the Lost Ark (1981)                      4.332168  4.520597\n",
       "Usual Suspects, The (1995)                          4.513317  4.518248\n",
       "Star Wars: Episode IV - A New Hope (1977)           4.302937  4.495307\n",
       "Schindler's List (1993)                             4.562602  4.491415\n",
       "Paths of Glory (1957)                               4.392857  4.485149\n",
       "Wrong Trousers, The (1993)                          4.588235  4.478261\n",
       "Close Shave, A (1995)                               4.644444  4.473795"
      ]
     },
     "execution_count": 17,
     "metadata": {},
     "output_type": "execute_result"
    }
   ],
   "source": [
    "top_male_ratings[:10]"
   ]
  },
  {
   "cell_type": "code",
   "execution_count": 18,
   "metadata": {},
   "outputs": [],
   "source": [
    "mean_ratings['diff'] = mean_ratings['M'] - mean_ratings['F']"
   ]
  },
  {
   "cell_type": "code",
   "execution_count": 19,
   "metadata": {},
   "outputs": [],
   "source": [
    "sorted_by_diff = mean_ratings.sort_values(by='diff')"
   ]
  },
  {
   "cell_type": "code",
   "execution_count": 20,
   "metadata": {},
   "outputs": [
    {
     "data": {
      "text/html": [
       "<div>\n",
       "<style scoped>\n",
       "    .dataframe tbody tr th:only-of-type {\n",
       "        vertical-align: middle;\n",
       "    }\n",
       "\n",
       "    .dataframe tbody tr th {\n",
       "        vertical-align: top;\n",
       "    }\n",
       "\n",
       "    .dataframe thead th {\n",
       "        text-align: right;\n",
       "    }\n",
       "</style>\n",
       "<table border=\"1\" class=\"dataframe\">\n",
       "  <thead>\n",
       "    <tr style=\"text-align: right;\">\n",
       "      <th>gender</th>\n",
       "      <th>F</th>\n",
       "      <th>M</th>\n",
       "      <th>diff</th>\n",
       "    </tr>\n",
       "    <tr>\n",
       "      <th>title</th>\n",
       "      <th></th>\n",
       "      <th></th>\n",
       "      <th></th>\n",
       "    </tr>\n",
       "  </thead>\n",
       "  <tbody>\n",
       "    <tr>\n",
       "      <td>Cutthroat Island (1995)</td>\n",
       "      <td>3.200000</td>\n",
       "      <td>2.341270</td>\n",
       "      <td>-0.858730</td>\n",
       "    </tr>\n",
       "    <tr>\n",
       "      <td>Dirty Dancing (1987)</td>\n",
       "      <td>3.790378</td>\n",
       "      <td>2.959596</td>\n",
       "      <td>-0.830782</td>\n",
       "    </tr>\n",
       "    <tr>\n",
       "      <td>Home Alone 3 (1997)</td>\n",
       "      <td>2.486486</td>\n",
       "      <td>1.683761</td>\n",
       "      <td>-0.802726</td>\n",
       "    </tr>\n",
       "    <tr>\n",
       "      <td>That Darn Cat! (1997)</td>\n",
       "      <td>3.156250</td>\n",
       "      <td>2.435484</td>\n",
       "      <td>-0.720766</td>\n",
       "    </tr>\n",
       "    <tr>\n",
       "      <td>Jumpin' Jack Flash (1986)</td>\n",
       "      <td>3.254717</td>\n",
       "      <td>2.578358</td>\n",
       "      <td>-0.676359</td>\n",
       "    </tr>\n",
       "    <tr>\n",
       "      <td>Dracula: Dead and Loving It (1995)</td>\n",
       "      <td>2.892857</td>\n",
       "      <td>2.250000</td>\n",
       "      <td>-0.642857</td>\n",
       "    </tr>\n",
       "    <tr>\n",
       "      <td>Pagemaster, The (1994)</td>\n",
       "      <td>3.146341</td>\n",
       "      <td>2.510638</td>\n",
       "      <td>-0.635703</td>\n",
       "    </tr>\n",
       "    <tr>\n",
       "      <td>Grease (1978)</td>\n",
       "      <td>3.975265</td>\n",
       "      <td>3.367041</td>\n",
       "      <td>-0.608224</td>\n",
       "    </tr>\n",
       "    <tr>\n",
       "      <td>Herbie Goes Bananas (1980)</td>\n",
       "      <td>2.965517</td>\n",
       "      <td>2.373333</td>\n",
       "      <td>-0.592184</td>\n",
       "    </tr>\n",
       "    <tr>\n",
       "      <td>Angels in the Outfield (1994)</td>\n",
       "      <td>3.162500</td>\n",
       "      <td>2.580838</td>\n",
       "      <td>-0.581662</td>\n",
       "    </tr>\n",
       "  </tbody>\n",
       "</table>\n",
       "</div>"
      ],
      "text/plain": [
       "gender                                     F         M      diff\n",
       "title                                                           \n",
       "Cutthroat Island (1995)             3.200000  2.341270 -0.858730\n",
       "Dirty Dancing (1987)                3.790378  2.959596 -0.830782\n",
       "Home Alone 3 (1997)                 2.486486  1.683761 -0.802726\n",
       "That Darn Cat! (1997)               3.156250  2.435484 -0.720766\n",
       "Jumpin' Jack Flash (1986)           3.254717  2.578358 -0.676359\n",
       "Dracula: Dead and Loving It (1995)  2.892857  2.250000 -0.642857\n",
       "Pagemaster, The (1994)              3.146341  2.510638 -0.635703\n",
       "Grease (1978)                       3.975265  3.367041 -0.608224\n",
       "Herbie Goes Bananas (1980)          2.965517  2.373333 -0.592184\n",
       "Angels in the Outfield (1994)       3.162500  2.580838 -0.581662"
      ]
     },
     "execution_count": 20,
     "metadata": {},
     "output_type": "execute_result"
    }
   ],
   "source": [
    "sorted_by_diff[:10]"
   ]
  },
  {
   "cell_type": "code",
   "execution_count": 21,
   "metadata": {},
   "outputs": [],
   "source": [
    "occupation_dict = { \n",
    "    0: \"not specified\", \n",
    "    1: \"academic/educator\",\n",
    "    2:  \"artist\",\n",
    "    3:  \"clerical/admin\",\n",
    "    4:  \"college/grad student\",\n",
    "    5:  \"customer service\",\n",
    "    6:  \"doctor/health care\",\n",
    "    7:  \"executive/managerial\",\n",
    "    8:  \"farmer\",\n",
    "    9:  \"homemaker\",\n",
    "    10:  \"K-12 student\",\n",
    "    11:  \"lawyer\",\n",
    "    12:  \"programmer\",\n",
    "    13:  \"retired\",\n",
    "    14:  \"sales/marketing\",\n",
    "    15:  \"scientist\",\n",
    "    16:  \"self-employed\",\n",
    "    17:  \"technician/engineer\",\n",
    "    18:  \"tradesman/craftsman\",\n",
    "    19:  \"unemployed\",\n",
    "    20:  \"writer\"\n",
    "}\n",
    "\n",
    "age_dict = {\n",
    "    1:  \"Under 18\",\n",
    "    18:  \"18-24\",\n",
    "    25:  \"25-34\",\n",
    "    35:  \"35-44\",\n",
    "    45:  \"45-49\",\n",
    "    50:  \"50-55\",\n",
    "    56:  \"56+\"\n",
    "}"
   ]
  },
  {
   "cell_type": "code",
   "execution_count": 22,
   "metadata": {},
   "outputs": [],
   "source": [
    "data['age'] = [age_dict[x] for x in data['age']]\n",
    "data['occupation'] = [occupation_dict[x] for x in data['occupation']]"
   ]
  },
  {
   "cell_type": "code",
   "execution_count": 23,
   "metadata": {},
   "outputs": [
    {
     "data": {
      "text/html": [
       "<div>\n",
       "<style scoped>\n",
       "    .dataframe tbody tr th:only-of-type {\n",
       "        vertical-align: middle;\n",
       "    }\n",
       "\n",
       "    .dataframe tbody tr th {\n",
       "        vertical-align: top;\n",
       "    }\n",
       "\n",
       "    .dataframe thead th {\n",
       "        text-align: right;\n",
       "    }\n",
       "</style>\n",
       "<table border=\"1\" class=\"dataframe\">\n",
       "  <thead>\n",
       "    <tr style=\"text-align: right;\">\n",
       "      <th></th>\n",
       "      <th>user_id</th>\n",
       "      <th>movie_id</th>\n",
       "      <th>rating</th>\n",
       "      <th>timestamp</th>\n",
       "      <th>gender</th>\n",
       "      <th>age</th>\n",
       "      <th>occupation</th>\n",
       "      <th>zip</th>\n",
       "      <th>title</th>\n",
       "      <th>genres</th>\n",
       "    </tr>\n",
       "  </thead>\n",
       "  <tbody>\n",
       "    <tr>\n",
       "      <td>0</td>\n",
       "      <td>2917</td>\n",
       "      <td>2355</td>\n",
       "      <td>2</td>\n",
       "      <td>971730180</td>\n",
       "      <td>M</td>\n",
       "      <td>25-34</td>\n",
       "      <td>not specified</td>\n",
       "      <td>60201</td>\n",
       "      <td>Bug's Life, A (1998)</td>\n",
       "      <td>Animation</td>\n",
       "    </tr>\n",
       "    <tr>\n",
       "      <td>1</td>\n",
       "      <td>2917</td>\n",
       "      <td>2355</td>\n",
       "      <td>2</td>\n",
       "      <td>971730180</td>\n",
       "      <td>M</td>\n",
       "      <td>25-34</td>\n",
       "      <td>not specified</td>\n",
       "      <td>60201</td>\n",
       "      <td>Bug's Life, A (1998)</td>\n",
       "      <td>Children's</td>\n",
       "    </tr>\n",
       "    <tr>\n",
       "      <td>2</td>\n",
       "      <td>2917</td>\n",
       "      <td>2355</td>\n",
       "      <td>2</td>\n",
       "      <td>971730180</td>\n",
       "      <td>M</td>\n",
       "      <td>25-34</td>\n",
       "      <td>not specified</td>\n",
       "      <td>60201</td>\n",
       "      <td>Bug's Life, A (1998)</td>\n",
       "      <td>Comedy</td>\n",
       "    </tr>\n",
       "    <tr>\n",
       "      <td>3</td>\n",
       "      <td>2924</td>\n",
       "      <td>2355</td>\n",
       "      <td>4</td>\n",
       "      <td>971592069</td>\n",
       "      <td>F</td>\n",
       "      <td>18-24</td>\n",
       "      <td>college/grad student</td>\n",
       "      <td>94121</td>\n",
       "      <td>Bug's Life, A (1998)</td>\n",
       "      <td>Animation</td>\n",
       "    </tr>\n",
       "    <tr>\n",
       "      <td>4</td>\n",
       "      <td>2924</td>\n",
       "      <td>2355</td>\n",
       "      <td>4</td>\n",
       "      <td>971592069</td>\n",
       "      <td>F</td>\n",
       "      <td>18-24</td>\n",
       "      <td>college/grad student</td>\n",
       "      <td>94121</td>\n",
       "      <td>Bug's Life, A (1998)</td>\n",
       "      <td>Children's</td>\n",
       "    </tr>\n",
       "  </tbody>\n",
       "</table>\n",
       "</div>"
      ],
      "text/plain": [
       "   user_id  movie_id  rating  timestamp gender    age            occupation  \\\n",
       "0     2917      2355       2  971730180      M  25-34         not specified   \n",
       "1     2917      2355       2  971730180      M  25-34         not specified   \n",
       "2     2917      2355       2  971730180      M  25-34         not specified   \n",
       "3     2924      2355       4  971592069      F  18-24  college/grad student   \n",
       "4     2924      2355       4  971592069      F  18-24  college/grad student   \n",
       "\n",
       "     zip                 title      genres  \n",
       "0  60201  Bug's Life, A (1998)   Animation  \n",
       "1  60201  Bug's Life, A (1998)  Children's  \n",
       "2  60201  Bug's Life, A (1998)      Comedy  \n",
       "3  94121  Bug's Life, A (1998)   Animation  \n",
       "4  94121  Bug's Life, A (1998)  Children's  "
      ]
     },
     "execution_count": 23,
     "metadata": {},
     "output_type": "execute_result"
    }
   ],
   "source": [
    "data.head()"
   ]
  },
  {
   "cell_type": "code",
   "execution_count": 24,
   "metadata": {},
   "outputs": [
    {
     "data": {
      "text/markdown": [
       "### Task 1 \n",
       "An aggregate of the movie ratings for each particular genre.\n"
      ],
      "text/plain": [
       "<IPython.core.display.Markdown object>"
      ]
     },
     "metadata": {},
     "output_type": "display_data"
    }
   ],
   "source": [
    "%%markdown\n",
    "### Task 1 \n",
    "An aggregate of the movie ratings for each particular genre."
   ]
  },
  {
   "cell_type": "code",
   "execution_count": 25,
   "metadata": {},
   "outputs": [],
   "source": [
    "# One way is complete the task by leveraging 'Groupby' method\n",
    "ratings_each_genre = data.groupby('genres').agg({'rating': [np.size, \n",
    "                                                            np.mean]})"
   ]
  },
  {
   "cell_type": "code",
   "execution_count": 26,
   "metadata": {},
   "outputs": [
    {
     "data": {
      "text/html": [
       "<div>\n",
       "<style scoped>\n",
       "    .dataframe tbody tr th:only-of-type {\n",
       "        vertical-align: middle;\n",
       "    }\n",
       "\n",
       "    .dataframe tbody tr th {\n",
       "        vertical-align: top;\n",
       "    }\n",
       "\n",
       "    .dataframe thead tr th {\n",
       "        text-align: left;\n",
       "    }\n",
       "\n",
       "    .dataframe thead tr:last-of-type th {\n",
       "        text-align: right;\n",
       "    }\n",
       "</style>\n",
       "<table border=\"1\" class=\"dataframe\">\n",
       "  <thead>\n",
       "    <tr>\n",
       "      <th></th>\n",
       "      <th colspan=\"2\" halign=\"left\">rating</th>\n",
       "    </tr>\n",
       "    <tr>\n",
       "      <th></th>\n",
       "      <th>size</th>\n",
       "      <th>mean</th>\n",
       "    </tr>\n",
       "    <tr>\n",
       "      <th>genres</th>\n",
       "      <th></th>\n",
       "      <th></th>\n",
       "    </tr>\n",
       "  </thead>\n",
       "  <tbody>\n",
       "    <tr>\n",
       "      <td>Action</td>\n",
       "      <td>257457</td>\n",
       "      <td>3.491185</td>\n",
       "    </tr>\n",
       "    <tr>\n",
       "      <td>Adventure</td>\n",
       "      <td>133953</td>\n",
       "      <td>3.477257</td>\n",
       "    </tr>\n",
       "    <tr>\n",
       "      <td>Animation</td>\n",
       "      <td>43303</td>\n",
       "      <td>3.684895</td>\n",
       "    </tr>\n",
       "    <tr>\n",
       "      <td>Children's</td>\n",
       "      <td>72196</td>\n",
       "      <td>3.422087</td>\n",
       "    </tr>\n",
       "    <tr>\n",
       "      <td>Comedy</td>\n",
       "      <td>356590</td>\n",
       "      <td>3.522107</td>\n",
       "    </tr>\n",
       "    <tr>\n",
       "      <td>Crime</td>\n",
       "      <td>79541</td>\n",
       "      <td>3.708679</td>\n",
       "    </tr>\n",
       "    <tr>\n",
       "      <td>Documentary</td>\n",
       "      <td>7910</td>\n",
       "      <td>3.933123</td>\n",
       "    </tr>\n",
       "    <tr>\n",
       "      <td>Drama</td>\n",
       "      <td>354529</td>\n",
       "      <td>3.766332</td>\n",
       "    </tr>\n",
       "    <tr>\n",
       "      <td>Fantasy</td>\n",
       "      <td>36301</td>\n",
       "      <td>3.447371</td>\n",
       "    </tr>\n",
       "    <tr>\n",
       "      <td>Film-Noir</td>\n",
       "      <td>18261</td>\n",
       "      <td>4.075188</td>\n",
       "    </tr>\n",
       "    <tr>\n",
       "      <td>Horror</td>\n",
       "      <td>76386</td>\n",
       "      <td>3.215013</td>\n",
       "    </tr>\n",
       "    <tr>\n",
       "      <td>Musical</td>\n",
       "      <td>41533</td>\n",
       "      <td>3.665519</td>\n",
       "    </tr>\n",
       "    <tr>\n",
       "      <td>Mystery</td>\n",
       "      <td>40178</td>\n",
       "      <td>3.668102</td>\n",
       "    </tr>\n",
       "    <tr>\n",
       "      <td>Romance</td>\n",
       "      <td>147523</td>\n",
       "      <td>3.607465</td>\n",
       "    </tr>\n",
       "    <tr>\n",
       "      <td>Sci-Fi</td>\n",
       "      <td>157294</td>\n",
       "      <td>3.466521</td>\n",
       "    </tr>\n",
       "    <tr>\n",
       "      <td>Thriller</td>\n",
       "      <td>189680</td>\n",
       "      <td>3.570466</td>\n",
       "    </tr>\n",
       "    <tr>\n",
       "      <td>War</td>\n",
       "      <td>68527</td>\n",
       "      <td>3.893327</td>\n",
       "    </tr>\n",
       "    <tr>\n",
       "      <td>Western</td>\n",
       "      <td>20683</td>\n",
       "      <td>3.637770</td>\n",
       "    </tr>\n",
       "  </tbody>\n",
       "</table>\n",
       "</div>"
      ],
      "text/plain": [
       "             rating          \n",
       "               size      mean\n",
       "genres                       \n",
       "Action       257457  3.491185\n",
       "Adventure    133953  3.477257\n",
       "Animation     43303  3.684895\n",
       "Children's    72196  3.422087\n",
       "Comedy       356590  3.522107\n",
       "Crime         79541  3.708679\n",
       "Documentary    7910  3.933123\n",
       "Drama        354529  3.766332\n",
       "Fantasy       36301  3.447371\n",
       "Film-Noir     18261  4.075188\n",
       "Horror        76386  3.215013\n",
       "Musical       41533  3.665519\n",
       "Mystery       40178  3.668102\n",
       "Romance      147523  3.607465\n",
       "Sci-Fi       157294  3.466521\n",
       "Thriller     189680  3.570466\n",
       "War           68527  3.893327\n",
       "Western       20683  3.637770"
      ]
     },
     "execution_count": 26,
     "metadata": {},
     "output_type": "execute_result"
    }
   ],
   "source": [
    "ratings_each_genre"
   ]
  },
  {
   "cell_type": "code",
   "execution_count": 27,
   "metadata": {},
   "outputs": [
    {
     "data": {
      "text/markdown": [
       "### Task 2 \n",
       "The top 5 highest ranked genre by occupation.\n"
      ],
      "text/plain": [
       "<IPython.core.display.Markdown object>"
      ]
     },
     "metadata": {},
     "output_type": "display_data"
    }
   ],
   "source": [
    "%%markdown\n",
    "### Task 2 \n",
    "The top 5 highest ranked genre by occupation."
   ]
  },
  {
   "cell_type": "code",
   "execution_count": 28,
   "metadata": {},
   "outputs": [],
   "source": [
    "# One way is using 'Pivot Table'\n",
    "# get a table with genres as index and occupation as columns\n",
    "rating_by_genre_by_occupation = data.pivot_table('rating', index='genres', columns='occupation')"
   ]
  },
  {
   "cell_type": "code",
   "execution_count": 29,
   "metadata": {},
   "outputs": [
    {
     "data": {
      "text/html": [
       "<div>\n",
       "<style scoped>\n",
       "    .dataframe tbody tr th:only-of-type {\n",
       "        vertical-align: middle;\n",
       "    }\n",
       "\n",
       "    .dataframe tbody tr th {\n",
       "        vertical-align: top;\n",
       "    }\n",
       "\n",
       "    .dataframe thead th {\n",
       "        text-align: right;\n",
       "    }\n",
       "</style>\n",
       "<table border=\"1\" class=\"dataframe\">\n",
       "  <thead>\n",
       "    <tr style=\"text-align: right;\">\n",
       "      <th>occupation</th>\n",
       "      <th>K-12 student</th>\n",
       "      <th>academic/educator</th>\n",
       "      <th>artist</th>\n",
       "      <th>clerical/admin</th>\n",
       "      <th>college/grad student</th>\n",
       "      <th>customer service</th>\n",
       "      <th>doctor/health care</th>\n",
       "      <th>executive/managerial</th>\n",
       "      <th>farmer</th>\n",
       "      <th>homemaker</th>\n",
       "      <th>...</th>\n",
       "      <th>not specified</th>\n",
       "      <th>programmer</th>\n",
       "      <th>retired</th>\n",
       "      <th>sales/marketing</th>\n",
       "      <th>scientist</th>\n",
       "      <th>self-employed</th>\n",
       "      <th>technician/engineer</th>\n",
       "      <th>tradesman/craftsman</th>\n",
       "      <th>unemployed</th>\n",
       "      <th>writer</th>\n",
       "    </tr>\n",
       "    <tr>\n",
       "      <th>genres</th>\n",
       "      <th></th>\n",
       "      <th></th>\n",
       "      <th></th>\n",
       "      <th></th>\n",
       "      <th></th>\n",
       "      <th></th>\n",
       "      <th></th>\n",
       "      <th></th>\n",
       "      <th></th>\n",
       "      <th></th>\n",
       "      <th></th>\n",
       "      <th></th>\n",
       "      <th></th>\n",
       "      <th></th>\n",
       "      <th></th>\n",
       "      <th></th>\n",
       "      <th></th>\n",
       "      <th></th>\n",
       "      <th></th>\n",
       "      <th></th>\n",
       "      <th></th>\n",
       "    </tr>\n",
       "  </thead>\n",
       "  <tbody>\n",
       "    <tr>\n",
       "      <td>Action</td>\n",
       "      <td>3.497116</td>\n",
       "      <td>3.392063</td>\n",
       "      <td>3.457569</td>\n",
       "      <td>3.549025</td>\n",
       "      <td>3.453687</td>\n",
       "      <td>3.494995</td>\n",
       "      <td>3.564004</td>\n",
       "      <td>3.568687</td>\n",
       "      <td>3.449309</td>\n",
       "      <td>3.601525</td>\n",
       "      <td>...</td>\n",
       "      <td>3.417847</td>\n",
       "      <td>3.575455</td>\n",
       "      <td>3.679048</td>\n",
       "      <td>3.528136</td>\n",
       "      <td>3.559685</td>\n",
       "      <td>3.510326</td>\n",
       "      <td>3.567827</td>\n",
       "      <td>3.475220</td>\n",
       "      <td>3.310577</td>\n",
       "      <td>3.339971</td>\n",
       "    </tr>\n",
       "    <tr>\n",
       "      <td>Adventure</td>\n",
       "      <td>3.425658</td>\n",
       "      <td>3.424278</td>\n",
       "      <td>3.443535</td>\n",
       "      <td>3.556486</td>\n",
       "      <td>3.419877</td>\n",
       "      <td>3.478934</td>\n",
       "      <td>3.553981</td>\n",
       "      <td>3.509195</td>\n",
       "      <td>3.397727</td>\n",
       "      <td>3.688992</td>\n",
       "      <td>...</td>\n",
       "      <td>3.425616</td>\n",
       "      <td>3.564958</td>\n",
       "      <td>3.650803</td>\n",
       "      <td>3.520496</td>\n",
       "      <td>3.567662</td>\n",
       "      <td>3.513258</td>\n",
       "      <td>3.560600</td>\n",
       "      <td>3.430316</td>\n",
       "      <td>3.287975</td>\n",
       "      <td>3.346110</td>\n",
       "    </tr>\n",
       "    <tr>\n",
       "      <td>Animation</td>\n",
       "      <td>3.463956</td>\n",
       "      <td>3.693399</td>\n",
       "      <td>3.624133</td>\n",
       "      <td>3.822104</td>\n",
       "      <td>3.655775</td>\n",
       "      <td>3.766940</td>\n",
       "      <td>3.681150</td>\n",
       "      <td>3.698059</td>\n",
       "      <td>3.529851</td>\n",
       "      <td>3.797980</td>\n",
       "      <td>...</td>\n",
       "      <td>3.674843</td>\n",
       "      <td>3.706839</td>\n",
       "      <td>3.545732</td>\n",
       "      <td>3.761057</td>\n",
       "      <td>3.847805</td>\n",
       "      <td>3.729696</td>\n",
       "      <td>3.734456</td>\n",
       "      <td>3.748663</td>\n",
       "      <td>3.395221</td>\n",
       "      <td>3.699623</td>\n",
       "    </tr>\n",
       "    <tr>\n",
       "      <td>Children's</td>\n",
       "      <td>3.220679</td>\n",
       "      <td>3.459286</td>\n",
       "      <td>3.377481</td>\n",
       "      <td>3.609614</td>\n",
       "      <td>3.346854</td>\n",
       "      <td>3.513463</td>\n",
       "      <td>3.485747</td>\n",
       "      <td>3.442969</td>\n",
       "      <td>3.229885</td>\n",
       "      <td>3.667447</td>\n",
       "      <td>...</td>\n",
       "      <td>3.438479</td>\n",
       "      <td>3.432778</td>\n",
       "      <td>3.485849</td>\n",
       "      <td>3.521694</td>\n",
       "      <td>3.592405</td>\n",
       "      <td>3.457459</td>\n",
       "      <td>3.481376</td>\n",
       "      <td>3.395288</td>\n",
       "      <td>2.973435</td>\n",
       "      <td>3.351509</td>\n",
       "    </tr>\n",
       "    <tr>\n",
       "      <td>Comedy</td>\n",
       "      <td>3.497200</td>\n",
       "      <td>3.519583</td>\n",
       "      <td>3.504449</td>\n",
       "      <td>3.601516</td>\n",
       "      <td>3.486595</td>\n",
       "      <td>3.474962</td>\n",
       "      <td>3.585793</td>\n",
       "      <td>3.517354</td>\n",
       "      <td>3.481363</td>\n",
       "      <td>3.579862</td>\n",
       "      <td>...</td>\n",
       "      <td>3.492581</td>\n",
       "      <td>3.598995</td>\n",
       "      <td>3.663825</td>\n",
       "      <td>3.553581</td>\n",
       "      <td>3.687170</td>\n",
       "      <td>3.507570</td>\n",
       "      <td>3.581307</td>\n",
       "      <td>3.445350</td>\n",
       "      <td>3.401392</td>\n",
       "      <td>3.423011</td>\n",
       "    </tr>\n",
       "  </tbody>\n",
       "</table>\n",
       "<p>5 rows × 21 columns</p>\n",
       "</div>"
      ],
      "text/plain": [
       "occupation  K-12 student  academic/educator    artist  clerical/admin  \\\n",
       "genres                                                                  \n",
       "Action          3.497116           3.392063  3.457569        3.549025   \n",
       "Adventure       3.425658           3.424278  3.443535        3.556486   \n",
       "Animation       3.463956           3.693399  3.624133        3.822104   \n",
       "Children's      3.220679           3.459286  3.377481        3.609614   \n",
       "Comedy          3.497200           3.519583  3.504449        3.601516   \n",
       "\n",
       "occupation  college/grad student  customer service  doctor/health care  \\\n",
       "genres                                                                   \n",
       "Action                  3.453687          3.494995            3.564004   \n",
       "Adventure               3.419877          3.478934            3.553981   \n",
       "Animation               3.655775          3.766940            3.681150   \n",
       "Children's              3.346854          3.513463            3.485747   \n",
       "Comedy                  3.486595          3.474962            3.585793   \n",
       "\n",
       "occupation  executive/managerial    farmer  homemaker  ...  not specified  \\\n",
       "genres                                                 ...                  \n",
       "Action                  3.568687  3.449309   3.601525  ...       3.417847   \n",
       "Adventure               3.509195  3.397727   3.688992  ...       3.425616   \n",
       "Animation               3.698059  3.529851   3.797980  ...       3.674843   \n",
       "Children's              3.442969  3.229885   3.667447  ...       3.438479   \n",
       "Comedy                  3.517354  3.481363   3.579862  ...       3.492581   \n",
       "\n",
       "occupation  programmer   retired  sales/marketing  scientist  self-employed  \\\n",
       "genres                                                                        \n",
       "Action        3.575455  3.679048         3.528136   3.559685       3.510326   \n",
       "Adventure     3.564958  3.650803         3.520496   3.567662       3.513258   \n",
       "Animation     3.706839  3.545732         3.761057   3.847805       3.729696   \n",
       "Children's    3.432778  3.485849         3.521694   3.592405       3.457459   \n",
       "Comedy        3.598995  3.663825         3.553581   3.687170       3.507570   \n",
       "\n",
       "occupation  technician/engineer  tradesman/craftsman  unemployed    writer  \n",
       "genres                                                                      \n",
       "Action                 3.567827             3.475220    3.310577  3.339971  \n",
       "Adventure              3.560600             3.430316    3.287975  3.346110  \n",
       "Animation              3.734456             3.748663    3.395221  3.699623  \n",
       "Children's             3.481376             3.395288    2.973435  3.351509  \n",
       "Comedy                 3.581307             3.445350    3.401392  3.423011  \n",
       "\n",
       "[5 rows x 21 columns]"
      ]
     },
     "execution_count": 29,
     "metadata": {},
     "output_type": "execute_result"
    }
   ],
   "source": [
    "rating_by_genre_by_occupation.head()"
   ]
  },
  {
   "cell_type": "code",
   "execution_count": 30,
   "metadata": {},
   "outputs": [
    {
     "name": "stdout",
     "output_type": "stream",
     "text": [
      "occupation: not specified\n",
      "genres\n",
      "Film-Noir      4.058155\n",
      "Documentary    3.854545\n",
      "War            3.852334\n",
      "Drama          3.743350\n",
      "Animation      3.674843\n",
      "Name: not specified, dtype: float64\n",
      "----------------------------------\n",
      "\n",
      "occupation: academic/educator\n",
      "genres\n",
      "Film-Noir      4.082613\n",
      "Documentary    3.984887\n",
      "War            3.882950\n",
      "Drama          3.754293\n",
      "Musical        3.701586\n",
      "Name: academic/educator, dtype: float64\n",
      "----------------------------------\n",
      "\n",
      "occupation: artist\n",
      "genres\n",
      "Film-Noir      4.114000\n",
      "Documentary    4.028933\n",
      "War            3.859375\n",
      "Drama          3.732216\n",
      "Mystery        3.719645\n",
      "Name: artist, dtype: float64\n",
      "----------------------------------\n",
      "\n",
      "occupation: clerical/admin\n",
      "genres\n",
      "Film-Noir      4.075332\n",
      "War            3.927692\n",
      "Musical        3.857049\n",
      "Documentary    3.852632\n",
      "Animation      3.822104\n",
      "Name: clerical/admin, dtype: float64\n",
      "----------------------------------\n",
      "\n",
      "occupation: college/grad student\n",
      "genres\n",
      "Film-Noir      4.039548\n",
      "Documentary    3.962887\n",
      "War            3.864107\n",
      "Drama          3.748794\n",
      "Crime          3.723450\n",
      "Name: college/grad student, dtype: float64\n",
      "----------------------------------\n",
      "\n",
      "occupation: customer service\n",
      "genres\n",
      "Film-Noir      4.027356\n",
      "Documentary    3.886598\n",
      "Animation      3.766940\n",
      "War            3.756677\n",
      "Drama          3.739991\n",
      "Name: customer service, dtype: float64\n",
      "----------------------------------\n",
      "\n",
      "occupation: doctor/health care\n",
      "genres\n",
      "Documentary    4.013245\n",
      "Film-Noir      4.011348\n",
      "War            4.005054\n",
      "Drama          3.871756\n",
      "Crime          3.802857\n",
      "Name: doctor/health care, dtype: float64\n",
      "----------------------------------\n",
      "\n",
      "occupation: executive/managerial\n",
      "genres\n",
      "Film-Noir      4.030027\n",
      "Documentary    3.915134\n",
      "War            3.911164\n",
      "Drama          3.766663\n",
      "Crime          3.736324\n",
      "Name: executive/managerial, dtype: float64\n",
      "----------------------------------\n",
      "\n",
      "occupation: farmer\n",
      "genres\n",
      "Documentary    3.900000\n",
      "Film-Noir      3.878049\n",
      "War            3.780488\n",
      "Western        3.705882\n",
      "Drama          3.627545\n",
      "Name: farmer, dtype: float64\n",
      "----------------------------------\n",
      "\n",
      "occupation: homemaker\n",
      "genres\n",
      "War            3.879518\n",
      "Musical        3.845821\n",
      "Documentary    3.800000\n",
      "Animation      3.797980\n",
      "Drama          3.791185\n",
      "Name: homemaker, dtype: float64\n",
      "----------------------------------\n",
      "\n",
      "occupation: K-12 student\n",
      "genres\n",
      "Film-Noir    4.212766\n",
      "War          3.880144\n",
      "Drama        3.782167\n",
      "Crime        3.687085\n",
      "Mystery      3.636612\n",
      "Name: K-12 student, dtype: float64\n",
      "----------------------------------\n",
      "\n",
      "occupation: lawyer\n",
      "genres\n",
      "Film-Noir      4.145251\n",
      "Documentary    4.141361\n",
      "War            3.947634\n",
      "Drama          3.763534\n",
      "Mystery        3.741304\n",
      "Name: lawyer, dtype: float64\n",
      "----------------------------------\n",
      "\n",
      "occupation: programmer\n",
      "genres\n",
      "Film-Noir      4.130357\n",
      "War            3.941926\n",
      "Documentary    3.844221\n",
      "Drama          3.840207\n",
      "Western        3.773408\n",
      "Name: programmer, dtype: float64\n",
      "----------------------------------\n",
      "\n",
      "occupation: retired\n",
      "genres\n",
      "Film-Noir      4.161058\n",
      "War            4.085757\n",
      "Documentary    3.970588\n",
      "Drama          3.949047\n",
      "Mystery        3.946292\n",
      "Name: retired, dtype: float64\n",
      "----------------------------------\n",
      "\n",
      "occupation: sales/marketing\n",
      "genres\n",
      "Film-Noir      4.126050\n",
      "Documentary    3.917763\n",
      "War            3.907317\n",
      "Drama          3.788018\n",
      "Animation      3.761057\n",
      "Name: sales/marketing, dtype: float64\n",
      "----------------------------------\n",
      "\n",
      "occupation: scientist\n",
      "genres\n",
      "Film-Noir      4.190476\n",
      "Documentary    3.987500\n",
      "War            3.933114\n",
      "Animation      3.847805\n",
      "Drama          3.836070\n",
      "Name: scientist, dtype: float64\n",
      "----------------------------------\n",
      "\n",
      "occupation: self-employed\n",
      "genres\n",
      "Film-Noir      4.105583\n",
      "Documentary    3.933492\n",
      "War            3.926107\n",
      "Drama          3.791983\n",
      "Crime          3.737569\n",
      "Name: self-employed, dtype: float64\n",
      "----------------------------------\n",
      "\n",
      "occupation: technician/engineer\n",
      "genres\n",
      "Film-Noir      4.050861\n",
      "Documentary    4.024129\n",
      "War            3.939708\n",
      "Drama          3.800158\n",
      "Animation      3.734456\n",
      "Name: technician/engineer, dtype: float64\n",
      "----------------------------------\n",
      "\n",
      "occupation: tradesman/craftsman\n",
      "genres\n",
      "Film-Noir    3.882653\n",
      "War          3.873449\n",
      "Western      3.753205\n",
      "Animation    3.748663\n",
      "Drama        3.738553\n",
      "Name: tradesman/craftsman, dtype: float64\n",
      "----------------------------------\n",
      "\n",
      "occupation: unemployed\n",
      "genres\n",
      "Film-Noir      4.044444\n",
      "Documentary    3.727273\n",
      "War            3.693103\n",
      "Crime          3.634085\n",
      "Drama          3.619308\n",
      "Name: unemployed, dtype: float64\n",
      "----------------------------------\n",
      "\n",
      "occupation: writer\n",
      "genres\n",
      "Film-Noir      4.104603\n",
      "Documentary    3.967914\n",
      "War            3.798393\n",
      "Animation      3.699623\n",
      "Musical        3.669849\n",
      "Name: writer, dtype: float64\n",
      "----------------------------------\n",
      "\n"
     ]
    }
   ],
   "source": [
    "# loop through all the occupations\n",
    "for key,value in occupation_dict.items():\n",
    "    # do sort the data frame by each occupation in descendingly order and get the top 5 rows\n",
    "    current_genres = rating_by_genre_by_occupation.sort_values(by=[value], ascending=False)[:5][value]\n",
    "    print('occupation: ' + value)\n",
    "    print(current_genres)\n",
    "    print('----------------------------------\\n')"
   ]
  },
  {
   "cell_type": "code",
   "execution_count": 31,
   "metadata": {},
   "outputs": [
    {
     "data": {
      "text/markdown": [
       "### Task 3 \n",
       "The most popular (with most ratings) movie by age group.\n"
      ],
      "text/plain": [
       "<IPython.core.display.Markdown object>"
      ]
     },
     "metadata": {},
     "output_type": "display_data"
    }
   ],
   "source": [
    "%%markdown\n",
    "### Task 3 \n",
    "The most popular (with most ratings) movie by age group."
   ]
  },
  {
   "cell_type": "code",
   "execution_count": 32,
   "metadata": {},
   "outputs": [],
   "source": [
    "most_popular_movie_by_age_group = data.pivot_table('rating', index='title', columns='age', aggfunc={'rating': np.size}).fillna(0)"
   ]
  },
  {
   "cell_type": "code",
   "execution_count": 33,
   "metadata": {},
   "outputs": [
    {
     "data": {
      "text/html": [
       "<div>\n",
       "<style scoped>\n",
       "    .dataframe tbody tr th:only-of-type {\n",
       "        vertical-align: middle;\n",
       "    }\n",
       "\n",
       "    .dataframe tbody tr th {\n",
       "        vertical-align: top;\n",
       "    }\n",
       "\n",
       "    .dataframe thead th {\n",
       "        text-align: right;\n",
       "    }\n",
       "</style>\n",
       "<table border=\"1\" class=\"dataframe\">\n",
       "  <thead>\n",
       "    <tr style=\"text-align: right;\">\n",
       "      <th>age</th>\n",
       "      <th>18-24</th>\n",
       "      <th>25-34</th>\n",
       "      <th>35-44</th>\n",
       "      <th>45-49</th>\n",
       "      <th>50-55</th>\n",
       "      <th>56+</th>\n",
       "      <th>Under 18</th>\n",
       "    </tr>\n",
       "    <tr>\n",
       "      <th>title</th>\n",
       "      <th></th>\n",
       "      <th></th>\n",
       "      <th></th>\n",
       "      <th></th>\n",
       "      <th></th>\n",
       "      <th></th>\n",
       "      <th></th>\n",
       "    </tr>\n",
       "  </thead>\n",
       "  <tbody>\n",
       "    <tr>\n",
       "      <td>$1,000,000 Duck (1971)</td>\n",
       "      <td>12.0</td>\n",
       "      <td>22.0</td>\n",
       "      <td>30.0</td>\n",
       "      <td>2.0</td>\n",
       "      <td>8.0</td>\n",
       "      <td>0.0</td>\n",
       "      <td>0.0</td>\n",
       "    </tr>\n",
       "    <tr>\n",
       "      <td>'Night Mother (1986)</td>\n",
       "      <td>3.0</td>\n",
       "      <td>26.0</td>\n",
       "      <td>21.0</td>\n",
       "      <td>6.0</td>\n",
       "      <td>9.0</td>\n",
       "      <td>3.0</td>\n",
       "      <td>2.0</td>\n",
       "    </tr>\n",
       "    <tr>\n",
       "      <td>'Til There Was You (1997)</td>\n",
       "      <td>16.0</td>\n",
       "      <td>48.0</td>\n",
       "      <td>20.0</td>\n",
       "      <td>6.0</td>\n",
       "      <td>4.0</td>\n",
       "      <td>6.0</td>\n",
       "      <td>4.0</td>\n",
       "    </tr>\n",
       "    <tr>\n",
       "      <td>'burbs, The (1989)</td>\n",
       "      <td>90.0</td>\n",
       "      <td>115.0</td>\n",
       "      <td>55.0</td>\n",
       "      <td>11.0</td>\n",
       "      <td>24.0</td>\n",
       "      <td>6.0</td>\n",
       "      <td>2.0</td>\n",
       "    </tr>\n",
       "    <tr>\n",
       "      <td>...And Justice for All (1979)</td>\n",
       "      <td>14.0</td>\n",
       "      <td>116.0</td>\n",
       "      <td>140.0</td>\n",
       "      <td>40.0</td>\n",
       "      <td>58.0</td>\n",
       "      <td>28.0</td>\n",
       "      <td>2.0</td>\n",
       "    </tr>\n",
       "    <tr>\n",
       "      <td>...</td>\n",
       "      <td>...</td>\n",
       "      <td>...</td>\n",
       "      <td>...</td>\n",
       "      <td>...</td>\n",
       "      <td>...</td>\n",
       "      <td>...</td>\n",
       "      <td>...</td>\n",
       "    </tr>\n",
       "    <tr>\n",
       "      <td>Zed &amp; Two Noughts, A (1985)</td>\n",
       "      <td>1.0</td>\n",
       "      <td>16.0</td>\n",
       "      <td>9.0</td>\n",
       "      <td>1.0</td>\n",
       "      <td>1.0</td>\n",
       "      <td>0.0</td>\n",
       "      <td>1.0</td>\n",
       "    </tr>\n",
       "    <tr>\n",
       "      <td>Zero Effect (1998)</td>\n",
       "      <td>120.0</td>\n",
       "      <td>288.0</td>\n",
       "      <td>92.0</td>\n",
       "      <td>34.0</td>\n",
       "      <td>36.0</td>\n",
       "      <td>16.0</td>\n",
       "      <td>16.0</td>\n",
       "    </tr>\n",
       "    <tr>\n",
       "      <td>Zero Kelvin (Kj�rlighetens kj�tere) (1995)</td>\n",
       "      <td>0.0</td>\n",
       "      <td>0.0</td>\n",
       "      <td>2.0</td>\n",
       "      <td>0.0</td>\n",
       "      <td>0.0</td>\n",
       "      <td>0.0</td>\n",
       "      <td>0.0</td>\n",
       "    </tr>\n",
       "    <tr>\n",
       "      <td>Zeus and Roxanne (1997)</td>\n",
       "      <td>4.0</td>\n",
       "      <td>6.0</td>\n",
       "      <td>6.0</td>\n",
       "      <td>1.0</td>\n",
       "      <td>0.0</td>\n",
       "      <td>0.0</td>\n",
       "      <td>6.0</td>\n",
       "    </tr>\n",
       "    <tr>\n",
       "      <td>eXistenZ (1999)</td>\n",
       "      <td>249.0</td>\n",
       "      <td>549.0</td>\n",
       "      <td>222.0</td>\n",
       "      <td>81.0</td>\n",
       "      <td>72.0</td>\n",
       "      <td>15.0</td>\n",
       "      <td>42.0</td>\n",
       "    </tr>\n",
       "  </tbody>\n",
       "</table>\n",
       "<p>3706 rows × 7 columns</p>\n",
       "</div>"
      ],
      "text/plain": [
       "age                                         18-24  25-34  35-44  45-49  50-55  \\\n",
       "title                                                                           \n",
       "$1,000,000 Duck (1971)                       12.0   22.0   30.0    2.0    8.0   \n",
       "'Night Mother (1986)                          3.0   26.0   21.0    6.0    9.0   \n",
       "'Til There Was You (1997)                    16.0   48.0   20.0    6.0    4.0   \n",
       "'burbs, The (1989)                           90.0  115.0   55.0   11.0   24.0   \n",
       "...And Justice for All (1979)                14.0  116.0  140.0   40.0   58.0   \n",
       "...                                           ...    ...    ...    ...    ...   \n",
       "Zed & Two Noughts, A (1985)                   1.0   16.0    9.0    1.0    1.0   \n",
       "Zero Effect (1998)                          120.0  288.0   92.0   34.0   36.0   \n",
       "Zero Kelvin (Kj�rlighetens kj�tere) (1995)    0.0    0.0    2.0    0.0    0.0   \n",
       "Zeus and Roxanne (1997)                       4.0    6.0    6.0    1.0    0.0   \n",
       "eXistenZ (1999)                             249.0  549.0  222.0   81.0   72.0   \n",
       "\n",
       "age                                          56+  Under 18  \n",
       "title                                                       \n",
       "$1,000,000 Duck (1971)                       0.0       0.0  \n",
       "'Night Mother (1986)                         3.0       2.0  \n",
       "'Til There Was You (1997)                    6.0       4.0  \n",
       "'burbs, The (1989)                           6.0       2.0  \n",
       "...And Justice for All (1979)               28.0       2.0  \n",
       "...                                          ...       ...  \n",
       "Zed & Two Noughts, A (1985)                  0.0       1.0  \n",
       "Zero Effect (1998)                          16.0      16.0  \n",
       "Zero Kelvin (Kj�rlighetens kj�tere) (1995)   0.0       0.0  \n",
       "Zeus and Roxanne (1997)                      0.0       6.0  \n",
       "eXistenZ (1999)                             15.0      42.0  \n",
       "\n",
       "[3706 rows x 7 columns]"
      ]
     },
     "execution_count": 33,
     "metadata": {},
     "output_type": "execute_result"
    }
   ],
   "source": [
    "most_popular_movie_by_age_group"
   ]
  },
  {
   "cell_type": "code",
   "execution_count": 34,
   "metadata": {},
   "outputs": [
    {
     "name": "stdout",
     "output_type": "stream",
     "text": [
      "age_group: Under 18\n",
      "title\n",
      "Star Wars: Episode VI - Return of the Jedi (1983)    500.0\n",
      "Name: Under 18, dtype: float64\n",
      "----------------------------------\n",
      "\n",
      "age_group: 18-24\n",
      "title\n",
      "Star Wars: Episode VI - Return of the Jedi (1983)    2930.0\n",
      "Name: 18-24, dtype: float64\n",
      "----------------------------------\n",
      "\n",
      "age_group: 25-34\n",
      "title\n",
      "Star Wars: Episode V - The Empire Strikes Back (1980)    5880.0\n",
      "Name: 25-34, dtype: float64\n",
      "----------------------------------\n",
      "\n",
      "age_group: 35-44\n",
      "title\n",
      "Star Wars: Episode V - The Empire Strikes Back (1980)    2990.0\n",
      "Name: 35-44, dtype: float64\n",
      "----------------------------------\n",
      "\n",
      "age_group: 45-49\n",
      "title\n",
      "Star Wars: Episode V - The Empire Strikes Back (1980)    1130.0\n",
      "Name: 45-49, dtype: float64\n",
      "----------------------------------\n",
      "\n",
      "age_group: 50-55\n",
      "title\n",
      "Star Wars: Episode V - The Empire Strikes Back (1980)    1030.0\n",
      "Name: 50-55, dtype: float64\n",
      "----------------------------------\n",
      "\n",
      "age_group: 56+\n",
      "title\n",
      "Star Wars: Episode V - The Empire Strikes Back (1980)    565.0\n",
      "Name: 56+, dtype: float64\n",
      "----------------------------------\n",
      "\n"
     ]
    }
   ],
   "source": [
    "# loop through the age dictionary \n",
    "for key, value in age_dict.items():\n",
    "    # do sort by current age group in descending order and get the top one row\n",
    "    current_most_popular_movie = most_popular_movie_by_age_group.sort_values(by=value, ascending=False)[value][:1]\n",
    "    print('age_group: ' + value)\n",
    "    print(current_most_popular_movie)\n",
    "    print('----------------------------------\\n')"
   ]
  },
  {
   "cell_type": "code",
   "execution_count": 35,
   "metadata": {},
   "outputs": [
    {
     "data": {
      "text/markdown": [
       "### Task 4 \n",
       "A breakdown of a movie’s ratings by occupation, using any movie of your choice.\n"
      ],
      "text/plain": [
       "<IPython.core.display.Markdown object>"
      ]
     },
     "metadata": {},
     "output_type": "display_data"
    }
   ],
   "source": [
    "%%markdown\n",
    "### Task 4 \n",
    "A breakdown of a movie’s ratings by occupation, using any movie of your choice."
   ]
  },
  {
   "cell_type": "code",
   "execution_count": 36,
   "metadata": {},
   "outputs": [],
   "source": [
    "# Use the very first movie title\n",
    "movie_title = data[:1].title[0]"
   ]
  },
  {
   "cell_type": "code",
   "execution_count": 37,
   "metadata": {},
   "outputs": [
    {
     "data": {
      "text/plain": [
       "\"Bug's Life, A (1998)\""
      ]
     },
     "execution_count": 37,
     "metadata": {},
     "output_type": "execute_result"
    }
   ],
   "source": [
    "movie_title"
   ]
  },
  {
   "cell_type": "code",
   "execution_count": 38,
   "metadata": {},
   "outputs": [],
   "source": [
    "data_of_movie_title = data[data.title == movie_title]"
   ]
  },
  {
   "cell_type": "code",
   "execution_count": 39,
   "metadata": {},
   "outputs": [
    {
     "data": {
      "text/html": [
       "<div>\n",
       "<style scoped>\n",
       "    .dataframe tbody tr th:only-of-type {\n",
       "        vertical-align: middle;\n",
       "    }\n",
       "\n",
       "    .dataframe tbody tr th {\n",
       "        vertical-align: top;\n",
       "    }\n",
       "\n",
       "    .dataframe thead th {\n",
       "        text-align: right;\n",
       "    }\n",
       "</style>\n",
       "<table border=\"1\" class=\"dataframe\">\n",
       "  <thead>\n",
       "    <tr style=\"text-align: right;\">\n",
       "      <th></th>\n",
       "      <th>user_id</th>\n",
       "      <th>movie_id</th>\n",
       "      <th>rating</th>\n",
       "      <th>timestamp</th>\n",
       "      <th>gender</th>\n",
       "      <th>age</th>\n",
       "      <th>occupation</th>\n",
       "      <th>zip</th>\n",
       "      <th>title</th>\n",
       "      <th>genres</th>\n",
       "    </tr>\n",
       "  </thead>\n",
       "  <tbody>\n",
       "    <tr>\n",
       "      <td>0</td>\n",
       "      <td>2917</td>\n",
       "      <td>2355</td>\n",
       "      <td>2</td>\n",
       "      <td>971730180</td>\n",
       "      <td>M</td>\n",
       "      <td>25-34</td>\n",
       "      <td>not specified</td>\n",
       "      <td>60201</td>\n",
       "      <td>Bug's Life, A (1998)</td>\n",
       "      <td>Animation</td>\n",
       "    </tr>\n",
       "    <tr>\n",
       "      <td>1</td>\n",
       "      <td>2917</td>\n",
       "      <td>2355</td>\n",
       "      <td>2</td>\n",
       "      <td>971730180</td>\n",
       "      <td>M</td>\n",
       "      <td>25-34</td>\n",
       "      <td>not specified</td>\n",
       "      <td>60201</td>\n",
       "      <td>Bug's Life, A (1998)</td>\n",
       "      <td>Children's</td>\n",
       "    </tr>\n",
       "    <tr>\n",
       "      <td>2</td>\n",
       "      <td>2917</td>\n",
       "      <td>2355</td>\n",
       "      <td>2</td>\n",
       "      <td>971730180</td>\n",
       "      <td>M</td>\n",
       "      <td>25-34</td>\n",
       "      <td>not specified</td>\n",
       "      <td>60201</td>\n",
       "      <td>Bug's Life, A (1998)</td>\n",
       "      <td>Comedy</td>\n",
       "    </tr>\n",
       "    <tr>\n",
       "      <td>3</td>\n",
       "      <td>2924</td>\n",
       "      <td>2355</td>\n",
       "      <td>4</td>\n",
       "      <td>971592069</td>\n",
       "      <td>F</td>\n",
       "      <td>18-24</td>\n",
       "      <td>college/grad student</td>\n",
       "      <td>94121</td>\n",
       "      <td>Bug's Life, A (1998)</td>\n",
       "      <td>Animation</td>\n",
       "    </tr>\n",
       "    <tr>\n",
       "      <td>4</td>\n",
       "      <td>2924</td>\n",
       "      <td>2355</td>\n",
       "      <td>4</td>\n",
       "      <td>971592069</td>\n",
       "      <td>F</td>\n",
       "      <td>18-24</td>\n",
       "      <td>college/grad student</td>\n",
       "      <td>94121</td>\n",
       "      <td>Bug's Life, A (1998)</td>\n",
       "      <td>Children's</td>\n",
       "    </tr>\n",
       "  </tbody>\n",
       "</table>\n",
       "</div>"
      ],
      "text/plain": [
       "   user_id  movie_id  rating  timestamp gender    age            occupation  \\\n",
       "0     2917      2355       2  971730180      M  25-34         not specified   \n",
       "1     2917      2355       2  971730180      M  25-34         not specified   \n",
       "2     2917      2355       2  971730180      M  25-34         not specified   \n",
       "3     2924      2355       4  971592069      F  18-24  college/grad student   \n",
       "4     2924      2355       4  971592069      F  18-24  college/grad student   \n",
       "\n",
       "     zip                 title      genres  \n",
       "0  60201  Bug's Life, A (1998)   Animation  \n",
       "1  60201  Bug's Life, A (1998)  Children's  \n",
       "2  60201  Bug's Life, A (1998)      Comedy  \n",
       "3  94121  Bug's Life, A (1998)   Animation  \n",
       "4  94121  Bug's Life, A (1998)  Children's  "
      ]
     },
     "execution_count": 39,
     "metadata": {},
     "output_type": "execute_result"
    }
   ],
   "source": [
    "data_of_movie_title.head()"
   ]
  },
  {
   "cell_type": "code",
   "execution_count": 40,
   "metadata": {},
   "outputs": [],
   "source": [
    "movie_break_down_rating_by_occupation = data_of_movie_title.pivot_table(index=['title'], columns=['occupation'], aggfunc={'rating':'mean'})"
   ]
  },
  {
   "cell_type": "code",
   "execution_count": 41,
   "metadata": {},
   "outputs": [
    {
     "data": {
      "text/html": [
       "<div>\n",
       "<style scoped>\n",
       "    .dataframe tbody tr th:only-of-type {\n",
       "        vertical-align: middle;\n",
       "    }\n",
       "\n",
       "    .dataframe tbody tr th {\n",
       "        vertical-align: top;\n",
       "    }\n",
       "\n",
       "    .dataframe thead tr th {\n",
       "        text-align: left;\n",
       "    }\n",
       "\n",
       "    .dataframe thead tr:last-of-type th {\n",
       "        text-align: right;\n",
       "    }\n",
       "</style>\n",
       "<table border=\"1\" class=\"dataframe\">\n",
       "  <thead>\n",
       "    <tr>\n",
       "      <th></th>\n",
       "      <th colspan=\"21\" halign=\"left\">rating</th>\n",
       "    </tr>\n",
       "    <tr>\n",
       "      <th>occupation</th>\n",
       "      <th>K-12 student</th>\n",
       "      <th>academic/educator</th>\n",
       "      <th>artist</th>\n",
       "      <th>clerical/admin</th>\n",
       "      <th>college/grad student</th>\n",
       "      <th>customer service</th>\n",
       "      <th>doctor/health care</th>\n",
       "      <th>executive/managerial</th>\n",
       "      <th>farmer</th>\n",
       "      <th>homemaker</th>\n",
       "      <th>...</th>\n",
       "      <th>not specified</th>\n",
       "      <th>programmer</th>\n",
       "      <th>retired</th>\n",
       "      <th>sales/marketing</th>\n",
       "      <th>scientist</th>\n",
       "      <th>self-employed</th>\n",
       "      <th>technician/engineer</th>\n",
       "      <th>tradesman/craftsman</th>\n",
       "      <th>unemployed</th>\n",
       "      <th>writer</th>\n",
       "    </tr>\n",
       "    <tr>\n",
       "      <th>title</th>\n",
       "      <th></th>\n",
       "      <th></th>\n",
       "      <th></th>\n",
       "      <th></th>\n",
       "      <th></th>\n",
       "      <th></th>\n",
       "      <th></th>\n",
       "      <th></th>\n",
       "      <th></th>\n",
       "      <th></th>\n",
       "      <th></th>\n",
       "      <th></th>\n",
       "      <th></th>\n",
       "      <th></th>\n",
       "      <th></th>\n",
       "      <th></th>\n",
       "      <th></th>\n",
       "      <th></th>\n",
       "      <th></th>\n",
       "      <th></th>\n",
       "      <th></th>\n",
       "    </tr>\n",
       "  </thead>\n",
       "  <tbody>\n",
       "    <tr>\n",
       "      <td>Bug's Life, A (1998)</td>\n",
       "      <td>3.555556</td>\n",
       "      <td>3.951456</td>\n",
       "      <td>3.974359</td>\n",
       "      <td>3.903846</td>\n",
       "      <td>3.792</td>\n",
       "      <td>4.0</td>\n",
       "      <td>3.846154</td>\n",
       "      <td>3.798742</td>\n",
       "      <td>4.25</td>\n",
       "      <td>3.8125</td>\n",
       "      <td>...</td>\n",
       "      <td>3.889401</td>\n",
       "      <td>3.991525</td>\n",
       "      <td>4.0</td>\n",
       "      <td>3.829787</td>\n",
       "      <td>3.979592</td>\n",
       "      <td>3.835616</td>\n",
       "      <td>3.883562</td>\n",
       "      <td>3.833333</td>\n",
       "      <td>3.68</td>\n",
       "      <td>3.768293</td>\n",
       "    </tr>\n",
       "  </tbody>\n",
       "</table>\n",
       "<p>1 rows × 21 columns</p>\n",
       "</div>"
      ],
      "text/plain": [
       "                           rating                                             \\\n",
       "occupation           K-12 student academic/educator    artist clerical/admin   \n",
       "title                                                                          \n",
       "Bug's Life, A (1998)     3.555556          3.951456  3.974359       3.903846   \n",
       "\n",
       "                                                                               \\\n",
       "occupation           college/grad student customer service doctor/health care   \n",
       "title                                                                           \n",
       "Bug's Life, A (1998)                3.792              4.0           3.846154   \n",
       "\n",
       "                                                            ...                \\\n",
       "occupation           executive/managerial farmer homemaker  ... not specified   \n",
       "title                                                       ...                 \n",
       "Bug's Life, A (1998)             3.798742   4.25    3.8125  ...      3.889401   \n",
       "\n",
       "                                                                   \\\n",
       "occupation           programmer retired sales/marketing scientist   \n",
       "title                                                               \n",
       "Bug's Life, A (1998)   3.991525     4.0        3.829787  3.979592   \n",
       "\n",
       "                                                                            \\\n",
       "occupation           self-employed technician/engineer tradesman/craftsman   \n",
       "title                                                                        \n",
       "Bug's Life, A (1998)      3.835616            3.883562            3.833333   \n",
       "\n",
       "                                           \n",
       "occupation           unemployed    writer  \n",
       "title                                      \n",
       "Bug's Life, A (1998)       3.68  3.768293  \n",
       "\n",
       "[1 rows x 21 columns]"
      ]
     },
     "execution_count": 41,
     "metadata": {},
     "output_type": "execute_result"
    }
   ],
   "source": [
    "movie_break_down_rating_by_occupation"
   ]
  },
  {
   "cell_type": "code",
   "execution_count": 42,
   "metadata": {},
   "outputs": [
    {
     "data": {
      "text/markdown": [
       "### Task 5  \n",
       "A function that given a user id, returns: \n",
       "* (1) this user’s age and occupation\n",
       "* (2) the average rating given by this user \n",
       "* (3) his highest and lowest rated movie(s)\n"
      ],
      "text/plain": [
       "<IPython.core.display.Markdown object>"
      ]
     },
     "metadata": {},
     "output_type": "display_data"
    }
   ],
   "source": [
    "%%markdown\n",
    "### Task 5  \n",
    "A function that given a user id, returns: \n",
    "* (1) this user’s age and occupation\n",
    "* (2) the average rating given by this user \n",
    "* (3) his highest and lowest rated movie(s)"
   ]
  },
  {
   "cell_type": "code",
   "execution_count": 43,
   "metadata": {},
   "outputs": [],
   "source": [
    "def checkUserRatingHistoryByUserId(user_id):\n",
    "    userRatingHistory = data[data.user_id == user_id]\n",
    "    res = {}\n",
    "    if not userRatingHistory.empty:\n",
    "        res['age'] = userRatingHistory['age'][0]\n",
    "        res['occupation'] = userRatingHistory['occupation'][0]\n",
    "        res['average_rating'] = userRatingHistory.mean()['rating']\n",
    "        highestRating = userRatingHistory.max()['rating']\n",
    "        lowestRating = userRatingHistory.min()['rating']\n",
    "        ratingGroups = userRatingHistory.groupby('rating')\n",
    "        res['highest_rated_movie'] = ratingGroups.get_group(highestRating)['title'].drop_duplicates(keep='first').reset_index()['title']\n",
    "        res['lowest_rated_movie'] = ratingGroups.get_group(lowestRating)['title'].drop_duplicates(keep='first').reset_index()['title']\n",
    "    else:\n",
    "        print('User does not exist!')\n",
    "    return res"
   ]
  },
  {
   "cell_type": "code",
   "execution_count": 44,
   "metadata": {},
   "outputs": [
    {
     "data": {
      "text/plain": [
       "{'age': '25-34',\n",
       " 'occupation': 'not specified',\n",
       " 'average_rating': 3.423611111111111,\n",
       " 'highest_rated_movie': 0                                          Fargo (1996)\n",
       " 1                        Raiders of the Lost Ark (1981)\n",
       " 2                                   Pulp Fiction (1994)\n",
       " 3                                          Crumb (1994)\n",
       " 4                             North by Northwest (1959)\n",
       " 5                   Hard-Boiled (Lashou shentan) (1992)\n",
       " 6                                    Rear Window (1954)\n",
       " 7                                   Citizen Kane (1941)\n",
       " 8                                   Blade Runner (1982)\n",
       " 9                                     Annie Hall (1977)\n",
       " 10                                       Vertigo (1958)\n",
       " 11            Killer, The (Die xue shuang xiong) (1989)\n",
       " 12                          Strangers on a Train (1951)\n",
       " 13                                   City Lights (1931)\n",
       " 14                                   Raging Bull (1980)\n",
       " 15                                      Fandango (1985)\n",
       " 16    Paradise Lost: The Child Murders at Robin Hood...\n",
       " Name: title, dtype: object,\n",
       " 'lowest_rated_movie': 0    Arachnophobia (1990)\n",
       " 1       Entrapment (1999)\n",
       " Name: title, dtype: object}"
      ]
     },
     "execution_count": 44,
     "metadata": {},
     "output_type": "execute_result"
    }
   ],
   "source": [
    "checkUserRatingHistoryByUserId(2917)"
   ]
  },
  {
   "cell_type": "code",
   "execution_count": 45,
   "metadata": {},
   "outputs": [
    {
     "data": {
      "text/markdown": [
       "### Task 6 \n",
       "Some other statistic, ﬁgure, aggregate, or plot that you created using this dataset, along with a short description of what interesting observations you derived from it.\n"
      ],
      "text/plain": [
       "<IPython.core.display.Markdown object>"
      ]
     },
     "metadata": {},
     "output_type": "display_data"
    }
   ],
   "source": [
    "%%markdown\n",
    "### Task 6 \n",
    "Some other statistic, ﬁgure, aggregate, or plot that you created using this dataset, along with a short description of what interesting observations you derived from it."
   ]
  },
  {
   "cell_type": "code",
   "execution_count": 46,
   "metadata": {},
   "outputs": [
    {
     "data": {
      "text/markdown": [
       "#### 1. Genres by gender\n"
      ],
      "text/plain": [
       "<IPython.core.display.Markdown object>"
      ]
     },
     "metadata": {},
     "output_type": "display_data"
    }
   ],
   "source": [
    "%%markdown\n",
    "#### 1. Genres by gender"
   ]
  },
  {
   "cell_type": "code",
   "execution_count": 47,
   "metadata": {},
   "outputs": [],
   "source": [
    "rating_genres_by_gender = data.pivot_table('rating', index='genres',columns='gender')"
   ]
  },
  {
   "cell_type": "code",
   "execution_count": 48,
   "metadata": {},
   "outputs": [],
   "source": [
    "male_rating_genres_by_gender = rating_genres_by_gender.sort_values(by='M',ascending=False)"
   ]
  },
  {
   "cell_type": "code",
   "execution_count": 49,
   "metadata": {},
   "outputs": [
    {
     "data": {
      "text/html": [
       "<div>\n",
       "<style scoped>\n",
       "    .dataframe tbody tr th:only-of-type {\n",
       "        vertical-align: middle;\n",
       "    }\n",
       "\n",
       "    .dataframe tbody tr th {\n",
       "        vertical-align: top;\n",
       "    }\n",
       "\n",
       "    .dataframe thead th {\n",
       "        text-align: right;\n",
       "    }\n",
       "</style>\n",
       "<table border=\"1\" class=\"dataframe\">\n",
       "  <thead>\n",
       "    <tr style=\"text-align: right;\">\n",
       "      <th>gender</th>\n",
       "      <th>F</th>\n",
       "      <th>M</th>\n",
       "    </tr>\n",
       "    <tr>\n",
       "      <th>genres</th>\n",
       "      <th></th>\n",
       "      <th></th>\n",
       "    </tr>\n",
       "  </thead>\n",
       "  <tbody>\n",
       "    <tr>\n",
       "      <td>Film-Noir</td>\n",
       "      <td>4.018087</td>\n",
       "      <td>4.092254</td>\n",
       "    </tr>\n",
       "    <tr>\n",
       "      <td>Documentary</td>\n",
       "      <td>3.946392</td>\n",
       "      <td>3.928811</td>\n",
       "    </tr>\n",
       "    <tr>\n",
       "      <td>War</td>\n",
       "      <td>3.893138</td>\n",
       "      <td>3.893375</td>\n",
       "    </tr>\n",
       "    <tr>\n",
       "      <td>Drama</td>\n",
       "      <td>3.765662</td>\n",
       "      <td>3.766589</td>\n",
       "    </tr>\n",
       "    <tr>\n",
       "      <td>Crime</td>\n",
       "      <td>3.689332</td>\n",
       "      <td>3.713720</td>\n",
       "    </tr>\n",
       "  </tbody>\n",
       "</table>\n",
       "</div>"
      ],
      "text/plain": [
       "gender              F         M\n",
       "genres                         \n",
       "Film-Noir    4.018087  4.092254\n",
       "Documentary  3.946392  3.928811\n",
       "War          3.893138  3.893375\n",
       "Drama        3.765662  3.766589\n",
       "Crime        3.689332  3.713720"
      ]
     },
     "execution_count": 49,
     "metadata": {},
     "output_type": "execute_result"
    }
   ],
   "source": [
    "male_rating_genres_by_gender.head()"
   ]
  },
  {
   "cell_type": "code",
   "execution_count": 50,
   "metadata": {},
   "outputs": [],
   "source": [
    "female_rating_genres_by_gender = rating_genres_by_gender.sort_values(by='F',ascending=False)"
   ]
  },
  {
   "cell_type": "code",
   "execution_count": 51,
   "metadata": {},
   "outputs": [
    {
     "data": {
      "text/html": [
       "<div>\n",
       "<style scoped>\n",
       "    .dataframe tbody tr th:only-of-type {\n",
       "        vertical-align: middle;\n",
       "    }\n",
       "\n",
       "    .dataframe tbody tr th {\n",
       "        vertical-align: top;\n",
       "    }\n",
       "\n",
       "    .dataframe thead th {\n",
       "        text-align: right;\n",
       "    }\n",
       "</style>\n",
       "<table border=\"1\" class=\"dataframe\">\n",
       "  <thead>\n",
       "    <tr style=\"text-align: right;\">\n",
       "      <th>gender</th>\n",
       "      <th>F</th>\n",
       "      <th>M</th>\n",
       "    </tr>\n",
       "    <tr>\n",
       "      <th>genres</th>\n",
       "      <th></th>\n",
       "      <th></th>\n",
       "    </tr>\n",
       "  </thead>\n",
       "  <tbody>\n",
       "    <tr>\n",
       "      <td>Film-Noir</td>\n",
       "      <td>4.018087</td>\n",
       "      <td>4.092254</td>\n",
       "    </tr>\n",
       "    <tr>\n",
       "      <td>Documentary</td>\n",
       "      <td>3.946392</td>\n",
       "      <td>3.928811</td>\n",
       "    </tr>\n",
       "    <tr>\n",
       "      <td>War</td>\n",
       "      <td>3.893138</td>\n",
       "      <td>3.893375</td>\n",
       "    </tr>\n",
       "    <tr>\n",
       "      <td>Musical</td>\n",
       "      <td>3.809108</td>\n",
       "      <td>3.596332</td>\n",
       "    </tr>\n",
       "    <tr>\n",
       "      <td>Drama</td>\n",
       "      <td>3.765662</td>\n",
       "      <td>3.766589</td>\n",
       "    </tr>\n",
       "  </tbody>\n",
       "</table>\n",
       "</div>"
      ],
      "text/plain": [
       "gender              F         M\n",
       "genres                         \n",
       "Film-Noir    4.018087  4.092254\n",
       "Documentary  3.946392  3.928811\n",
       "War          3.893138  3.893375\n",
       "Musical      3.809108  3.596332\n",
       "Drama        3.765662  3.766589"
      ]
     },
     "execution_count": 51,
     "metadata": {},
     "output_type": "execute_result"
    }
   ],
   "source": [
    "female_rating_genres_by_gender.head()"
   ]
  },
  {
   "cell_type": "code",
   "execution_count": 52,
   "metadata": {},
   "outputs": [],
   "source": [
    "rating_genres_by_gender['diff'] = rating_genres_by_gender['M'] - rating_genres_by_gender['F']"
   ]
  },
  {
   "cell_type": "code",
   "execution_count": 53,
   "metadata": {},
   "outputs": [
    {
     "data": {
      "text/html": [
       "<div>\n",
       "<style scoped>\n",
       "    .dataframe tbody tr th:only-of-type {\n",
       "        vertical-align: middle;\n",
       "    }\n",
       "\n",
       "    .dataframe tbody tr th {\n",
       "        vertical-align: top;\n",
       "    }\n",
       "\n",
       "    .dataframe thead th {\n",
       "        text-align: right;\n",
       "    }\n",
       "</style>\n",
       "<table border=\"1\" class=\"dataframe\">\n",
       "  <thead>\n",
       "    <tr style=\"text-align: right;\">\n",
       "      <th>gender</th>\n",
       "      <th>F</th>\n",
       "      <th>M</th>\n",
       "      <th>diff</th>\n",
       "    </tr>\n",
       "    <tr>\n",
       "      <th>genres</th>\n",
       "      <th></th>\n",
       "      <th></th>\n",
       "      <th></th>\n",
       "    </tr>\n",
       "  </thead>\n",
       "  <tbody>\n",
       "    <tr>\n",
       "      <td>Action</td>\n",
       "      <td>3.490252</td>\n",
       "      <td>3.491386</td>\n",
       "      <td>0.001134</td>\n",
       "    </tr>\n",
       "    <tr>\n",
       "      <td>Adventure</td>\n",
       "      <td>3.512879</td>\n",
       "      <td>3.468125</td>\n",
       "      <td>-0.044753</td>\n",
       "    </tr>\n",
       "    <tr>\n",
       "      <td>Animation</td>\n",
       "      <td>3.744785</td>\n",
       "      <td>3.661336</td>\n",
       "      <td>-0.083449</td>\n",
       "    </tr>\n",
       "    <tr>\n",
       "      <td>Children's</td>\n",
       "      <td>3.572628</td>\n",
       "      <td>3.358998</td>\n",
       "      <td>-0.213630</td>\n",
       "    </tr>\n",
       "    <tr>\n",
       "      <td>Comedy</td>\n",
       "      <td>3.571955</td>\n",
       "      <td>3.503671</td>\n",
       "      <td>-0.068285</td>\n",
       "    </tr>\n",
       "  </tbody>\n",
       "</table>\n",
       "</div>"
      ],
      "text/plain": [
       "gender             F         M      diff\n",
       "genres                                  \n",
       "Action      3.490252  3.491386  0.001134\n",
       "Adventure   3.512879  3.468125 -0.044753\n",
       "Animation   3.744785  3.661336 -0.083449\n",
       "Children's  3.572628  3.358998 -0.213630\n",
       "Comedy      3.571955  3.503671 -0.068285"
      ]
     },
     "execution_count": 53,
     "metadata": {},
     "output_type": "execute_result"
    }
   ],
   "source": [
    "rating_genres_by_gender.head()"
   ]
  },
  {
   "cell_type": "code",
   "execution_count": 54,
   "metadata": {},
   "outputs": [],
   "source": [
    "male_female_diff = rating_genres_by_gender.sort_values(by='diff',ascending=False)"
   ]
  },
  {
   "cell_type": "code",
   "execution_count": 55,
   "metadata": {},
   "outputs": [
    {
     "data": {
      "text/html": [
       "<div>\n",
       "<style scoped>\n",
       "    .dataframe tbody tr th:only-of-type {\n",
       "        vertical-align: middle;\n",
       "    }\n",
       "\n",
       "    .dataframe tbody tr th {\n",
       "        vertical-align: top;\n",
       "    }\n",
       "\n",
       "    .dataframe thead th {\n",
       "        text-align: right;\n",
       "    }\n",
       "</style>\n",
       "<table border=\"1\" class=\"dataframe\">\n",
       "  <thead>\n",
       "    <tr style=\"text-align: right;\">\n",
       "      <th>gender</th>\n",
       "      <th>F</th>\n",
       "      <th>M</th>\n",
       "      <th>diff</th>\n",
       "    </tr>\n",
       "    <tr>\n",
       "      <th>genres</th>\n",
       "      <th></th>\n",
       "      <th></th>\n",
       "      <th></th>\n",
       "    </tr>\n",
       "  </thead>\n",
       "  <tbody>\n",
       "    <tr>\n",
       "      <td>Western</td>\n",
       "      <td>3.551913</td>\n",
       "      <td>3.655120</td>\n",
       "      <td>0.103208</td>\n",
       "    </tr>\n",
       "    <tr>\n",
       "      <td>Film-Noir</td>\n",
       "      <td>4.018087</td>\n",
       "      <td>4.092254</td>\n",
       "      <td>0.074167</td>\n",
       "    </tr>\n",
       "    <tr>\n",
       "      <td>Crime</td>\n",
       "      <td>3.689332</td>\n",
       "      <td>3.713720</td>\n",
       "      <td>0.024388</td>\n",
       "    </tr>\n",
       "    <tr>\n",
       "      <td>Sci-Fi</td>\n",
       "      <td>3.450255</td>\n",
       "      <td>3.469952</td>\n",
       "      <td>0.019697</td>\n",
       "    </tr>\n",
       "    <tr>\n",
       "      <td>Horror</td>\n",
       "      <td>3.202870</td>\n",
       "      <td>3.217891</td>\n",
       "      <td>0.015021</td>\n",
       "    </tr>\n",
       "    <tr>\n",
       "      <td>Action</td>\n",
       "      <td>3.490252</td>\n",
       "      <td>3.491386</td>\n",
       "      <td>0.001134</td>\n",
       "    </tr>\n",
       "    <tr>\n",
       "      <td>Drama</td>\n",
       "      <td>3.765662</td>\n",
       "      <td>3.766589</td>\n",
       "      <td>0.000927</td>\n",
       "    </tr>\n",
       "    <tr>\n",
       "      <td>War</td>\n",
       "      <td>3.893138</td>\n",
       "      <td>3.893375</td>\n",
       "      <td>0.000237</td>\n",
       "    </tr>\n",
       "    <tr>\n",
       "      <td>Thriller</td>\n",
       "      <td>3.573360</td>\n",
       "      <td>3.569685</td>\n",
       "      <td>-0.003675</td>\n",
       "    </tr>\n",
       "    <tr>\n",
       "      <td>Documentary</td>\n",
       "      <td>3.946392</td>\n",
       "      <td>3.928811</td>\n",
       "      <td>-0.017581</td>\n",
       "    </tr>\n",
       "    <tr>\n",
       "      <td>Mystery</td>\n",
       "      <td>3.686548</td>\n",
       "      <td>3.662009</td>\n",
       "      <td>-0.024539</td>\n",
       "    </tr>\n",
       "    <tr>\n",
       "      <td>Adventure</td>\n",
       "      <td>3.512879</td>\n",
       "      <td>3.468125</td>\n",
       "      <td>-0.044753</td>\n",
       "    </tr>\n",
       "    <tr>\n",
       "      <td>Comedy</td>\n",
       "      <td>3.571955</td>\n",
       "      <td>3.503671</td>\n",
       "      <td>-0.068285</td>\n",
       "    </tr>\n",
       "    <tr>\n",
       "      <td>Animation</td>\n",
       "      <td>3.744785</td>\n",
       "      <td>3.661336</td>\n",
       "      <td>-0.083449</td>\n",
       "    </tr>\n",
       "    <tr>\n",
       "      <td>Fantasy</td>\n",
       "      <td>3.513076</td>\n",
       "      <td>3.426603</td>\n",
       "      <td>-0.086473</td>\n",
       "    </tr>\n",
       "    <tr>\n",
       "      <td>Romance</td>\n",
       "      <td>3.673579</td>\n",
       "      <td>3.573262</td>\n",
       "      <td>-0.100317</td>\n",
       "    </tr>\n",
       "    <tr>\n",
       "      <td>Musical</td>\n",
       "      <td>3.809108</td>\n",
       "      <td>3.596332</td>\n",
       "      <td>-0.212775</td>\n",
       "    </tr>\n",
       "    <tr>\n",
       "      <td>Children's</td>\n",
       "      <td>3.572628</td>\n",
       "      <td>3.358998</td>\n",
       "      <td>-0.213630</td>\n",
       "    </tr>\n",
       "  </tbody>\n",
       "</table>\n",
       "</div>"
      ],
      "text/plain": [
       "gender              F         M      diff\n",
       "genres                                   \n",
       "Western      3.551913  3.655120  0.103208\n",
       "Film-Noir    4.018087  4.092254  0.074167\n",
       "Crime        3.689332  3.713720  0.024388\n",
       "Sci-Fi       3.450255  3.469952  0.019697\n",
       "Horror       3.202870  3.217891  0.015021\n",
       "Action       3.490252  3.491386  0.001134\n",
       "Drama        3.765662  3.766589  0.000927\n",
       "War          3.893138  3.893375  0.000237\n",
       "Thriller     3.573360  3.569685 -0.003675\n",
       "Documentary  3.946392  3.928811 -0.017581\n",
       "Mystery      3.686548  3.662009 -0.024539\n",
       "Adventure    3.512879  3.468125 -0.044753\n",
       "Comedy       3.571955  3.503671 -0.068285\n",
       "Animation    3.744785  3.661336 -0.083449\n",
       "Fantasy      3.513076  3.426603 -0.086473\n",
       "Romance      3.673579  3.573262 -0.100317\n",
       "Musical      3.809108  3.596332 -0.212775\n",
       "Children's   3.572628  3.358998 -0.213630"
      ]
     },
     "execution_count": 55,
     "metadata": {},
     "output_type": "execute_result"
    }
   ],
   "source": [
    "male_female_diff"
   ]
  },
  {
   "cell_type": "code",
   "execution_count": 56,
   "metadata": {},
   "outputs": [
    {
     "data": {
      "text/markdown": [
       "#### Observation\n",
       "By observing result above, we could see the genres that both gender are tending to rating higher scores, \n",
       "an interesting fact is that the top 2 highest ranked genres for both genders are the same, they are the \n",
       "Film-Noir and Documentary.\n",
       "\n",
       "We could also see the difference of the ratings on each genres from male and female. \n",
       "Men tend to give the Western genre higher rating, while women tend to give the Children's genre higher rating.\n",
       "Both of the gender have similar rating for the War genre\n"
      ],
      "text/plain": [
       "<IPython.core.display.Markdown object>"
      ]
     },
     "metadata": {},
     "output_type": "display_data"
    }
   ],
   "source": [
    "%%markdown\n",
    "#### Observation\n",
    "By observing result above, we could see the genres that both gender are tending to rating higher scores, \n",
    "an interesting fact is that the top 2 highest ranked genres for both genders are the same, they are the \n",
    "Film-Noir and Documentary.\n",
    "\n",
    "We could also see the difference of the ratings on each genres from male and female. \n",
    "Men tend to give the Western genre higher rating, while women tend to give the Children's genre higher rating.\n",
    "Both of the gender have similar rating for the War genre"
   ]
  },
  {
   "cell_type": "code",
   "execution_count": 57,
   "metadata": {},
   "outputs": [],
   "source": [
    "from matplotlib import pyplot as pp"
   ]
  },
  {
   "cell_type": "code",
   "execution_count": 58,
   "metadata": {},
   "outputs": [
    {
     "data": {
      "text/markdown": [
       "#### 2. Rating Distribution Plot\n"
      ],
      "text/plain": [
       "<IPython.core.display.Markdown object>"
      ]
     },
     "metadata": {},
     "output_type": "display_data"
    }
   ],
   "source": [
    "%%markdown\n",
    "#### 2. Rating Distribution Plot"
   ]
  },
  {
   "cell_type": "code",
   "execution_count": 59,
   "metadata": {},
   "outputs": [],
   "source": [
    "# prepare the data\n",
    "rating_groups = data.groupby('rating').size()"
   ]
  },
  {
   "cell_type": "code",
   "execution_count": 60,
   "metadata": {},
   "outputs": [
    {
     "data": {
      "text/plain": [
       "count         5.000000\n",
       "mean     420369.000000\n",
       "std      247618.781478\n",
       "min      116603.000000\n",
       "25%      227227.000000\n",
       "50%      477937.000000\n",
       "75%      550992.000000\n",
       "max      729086.000000\n",
       "dtype: float64"
      ]
     },
     "execution_count": 60,
     "metadata": {},
     "output_type": "execute_result"
    }
   ],
   "source": [
    "rating_groups.describe()"
   ]
  },
  {
   "cell_type": "code",
   "execution_count": 61,
   "metadata": {},
   "outputs": [
    {
     "data": {
      "image/png": "[encoded data removed]",
      "text/plain": [
       "<Figure size 320x240 with 1 Axes>"
      ]
     },
     "metadata": {
      "needs_background": "light"
     },
     "output_type": "display_data"
    }
   ],
   "source": [
    "# draw a plot with the rating data by using pyplot\n",
    "pp.figure(figsize=(4, 3), dpi=80)\n",
    "pp.plot(rating_groups, color=\"red\", linewidth=1.0, linestyle=\"-\")\n",
    "pp.xlabel('Rating')\n",
    "pp.ylabel('Numbers of Rating')\n",
    "pp.title('Rating Distribution Plot')\n",
    "pp.grid(True)\n",
    "pp.show()"
   ]
  },
  {
   "cell_type": "code",
   "execution_count": 62,
   "metadata": {},
   "outputs": [
    {
     "data": {
      "image/png": "[encoded data removed]",
      "text/plain": [
       "<Figure size 432x288 with 1 Axes>"
      ]
     },
     "metadata": {
      "needs_background": "light"
     },
     "output_type": "display_data"
    }
   ],
   "source": [
    "# we can also draw a pandas histogram\n",
    "rating_histogram_distribution = data['rating'].hist(bins=5)"
   ]
  },
  {
   "cell_type": "code",
   "execution_count": 63,
   "metadata": {},
   "outputs": [
    {
     "data": {
      "text/markdown": [
       "#### Observation\n",
       "By observing the plot and histogram above, we could easily see that most of the users are giving the movies they watch a relatively higher rating.\n",
       "\n",
       "Most of the ratings are around the 3, 4, 5 area, while the rating 1 and 2 is relatively fewer.\n"
      ],
      "text/plain": [
       "<IPython.core.display.Markdown object>"
      ]
     },
     "metadata": {},
     "output_type": "display_data"
    }
   ],
   "source": [
    "%%markdown\n",
    "#### Observation\n",
    "By observing the plot and histogram above, we could easily see that most of the users are giving the movies they watch a relatively higher rating.\n",
    "\n",
    "Most of the ratings are around the 3, 4, 5 area, while the rating 1 and 2 is relatively fewer."
   ]
  },
  {
   "cell_type": "code",
   "execution_count": 64,
   "metadata": {},
   "outputs": [
    {
     "data": {
      "text/markdown": [
       "#### 3. User Age Group Distribution Plot\n"
      ],
      "text/plain": [
       "<IPython.core.display.Markdown object>"
      ]
     },
     "metadata": {},
     "output_type": "display_data"
    }
   ],
   "source": [
    "%%markdown\n",
    "#### 3. User Age Group Distribution Plot"
   ]
  },
  {
   "cell_type": "code",
   "execution_count": 65,
   "metadata": {},
   "outputs": [],
   "source": [
    "# prepare the data\n",
    "user_age_groups = data.groupby('age').size().rename(index={'Under 18':'0-18'}).sort_index(ascending=True)"
   ]
  },
  {
   "cell_type": "code",
   "execution_count": 66,
   "metadata": {},
   "outputs": [
    {
     "data": {
      "text/plain": [
       "age\n",
       "0-18      58820\n",
       "18-24    391848\n",
       "25-34    831344\n",
       "35-44    417543\n",
       "45-49    173677\n",
       "50-55    149791\n",
       "56+       78822\n",
       "dtype: int64"
      ]
     },
     "execution_count": 66,
     "metadata": {},
     "output_type": "execute_result"
    }
   ],
   "source": [
    "user_age_groups"
   ]
  },
  {
   "cell_type": "code",
   "execution_count": 67,
   "metadata": {},
   "outputs": [
    {
     "data": {
      "image/png": "[encoded data removed]",
      "text/plain": [
       "<Figure size 320x240 with 1 Axes>"
      ]
     },
     "metadata": {
      "needs_background": "light"
     },
     "output_type": "display_data"
    }
   ],
   "source": [
    "pp.figure(figsize=(4,3),dpi=80)\n",
    "pp.plot(user_age_groups, color='green', linewidth=1.0, linestyle=\"-\")\n",
    "pp.xlabel('Age Groups')\n",
    "pp.ylabel('Numbers of Rating')\n",
    "pp.title('User Age Group Distribution Plot')\n",
    "pp.grid(True)\n",
    "pp.show()"
   ]
  },
  {
   "cell_type": "code",
   "execution_count": 68,
   "metadata": {},
   "outputs": [
    {
     "data": {
      "text/markdown": [
       "#### Observation\n",
       "By observing the plot above, the user age group distribution plot looks like a pyramid and its peak is the 25-34 group.\n",
       "\n",
       "This result does make sense, people of this age loves to watch movie, they have time and they are energetic, while people of younger age may not have as much time and those of older age are less energetic \n"
      ],
      "text/plain": [
       "<IPython.core.display.Markdown object>"
      ]
     },
     "metadata": {},
     "output_type": "display_data"
    }
   ],
   "source": [
    "%%markdown\n",
    "#### Observation\n",
    "By observing the plot above, the user age group distribution plot looks like a pyramid and its peak is the 25-34 group.\n",
    "\n",
    "This result does make sense, people of this age loves to watch movie, they have time and they are energetic, while people of younger age may not have as much time and those of older age are less energetic "
   ]
  },
  {
   "cell_type": "code",
   "execution_count": null,
   "metadata": {},
   "outputs": [],
   "source": []
  }
 ],
 "metadata": {
  "kernelspec": {
   "display_name": "Python 3",
   "language": "python",
   "name": "python3"
  },
  "language_info": {
   "codemirror_mode": {
    "name": "ipython",
    "version": 3
   },
   "file_extension": ".py",
   "mimetype": "text/x-python",
   "name": "python",
   "nbconvert_exporter": "python",
   "pygments_lexer": "ipython3",
   "version": "3.7.4"
  }
 },
 "nbformat": 4,
 "nbformat_minor": 2
}
